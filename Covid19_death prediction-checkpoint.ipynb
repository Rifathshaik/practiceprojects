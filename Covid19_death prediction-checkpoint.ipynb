{
 "cells": [
  {
   "cell_type": "code",
   "execution_count": 33,
   "metadata": {},
   "outputs": [],
   "source": [
    "import pandas as pd\n",
    "import numpy as np"
   ]
  },
  {
   "cell_type": "code",
   "execution_count": 34,
   "metadata": {},
   "outputs": [],
   "source": [
    "df=pd.read_csv(\"aggregate_covid_country.csv\")"
   ]
  },
  {
   "cell_type": "code",
   "execution_count": 35,
   "metadata": {},
   "outputs": [
    {
     "data": {
      "text/html": [
       "<div>\n",
       "<style scoped>\n",
       "    .dataframe tbody tr th:only-of-type {\n",
       "        vertical-align: middle;\n",
       "    }\n",
       "\n",
       "    .dataframe tbody tr th {\n",
       "        vertical-align: top;\n",
       "    }\n",
       "\n",
       "    .dataframe thead th {\n",
       "        text-align: right;\n",
       "    }\n",
       "</style>\n",
       "<table border=\"1\" class=\"dataframe\">\n",
       "  <thead>\n",
       "    <tr style=\"text-align: right;\">\n",
       "      <th></th>\n",
       "      <th>Date</th>\n",
       "      <th>Country</th>\n",
       "      <th>Confirmed</th>\n",
       "      <th>Recovered</th>\n",
       "      <th>Deaths</th>\n",
       "    </tr>\n",
       "  </thead>\n",
       "  <tbody>\n",
       "    <tr>\n",
       "      <th>0</th>\n",
       "      <td>2020-01-22</td>\n",
       "      <td>Afghanistan</td>\n",
       "      <td>0</td>\n",
       "      <td>0</td>\n",
       "      <td>0</td>\n",
       "    </tr>\n",
       "    <tr>\n",
       "      <th>1</th>\n",
       "      <td>2020-01-22</td>\n",
       "      <td>Albania</td>\n",
       "      <td>0</td>\n",
       "      <td>0</td>\n",
       "      <td>0</td>\n",
       "    </tr>\n",
       "    <tr>\n",
       "      <th>2</th>\n",
       "      <td>2020-01-22</td>\n",
       "      <td>Algeria</td>\n",
       "      <td>0</td>\n",
       "      <td>0</td>\n",
       "      <td>0</td>\n",
       "    </tr>\n",
       "    <tr>\n",
       "      <th>3</th>\n",
       "      <td>2020-01-22</td>\n",
       "      <td>Andorra</td>\n",
       "      <td>0</td>\n",
       "      <td>0</td>\n",
       "      <td>0</td>\n",
       "    </tr>\n",
       "    <tr>\n",
       "      <th>4</th>\n",
       "      <td>2020-01-22</td>\n",
       "      <td>Angola</td>\n",
       "      <td>0</td>\n",
       "      <td>0</td>\n",
       "      <td>0</td>\n",
       "    </tr>\n",
       "  </tbody>\n",
       "</table>\n",
       "</div>"
      ],
      "text/plain": [
       "         Date      Country  Confirmed  Recovered  Deaths\n",
       "0  2020-01-22  Afghanistan          0          0       0\n",
       "1  2020-01-22      Albania          0          0       0\n",
       "2  2020-01-22      Algeria          0          0       0\n",
       "3  2020-01-22      Andorra          0          0       0\n",
       "4  2020-01-22       Angola          0          0       0"
      ]
     },
     "execution_count": 35,
     "metadata": {},
     "output_type": "execute_result"
    }
   ],
   "source": [
    "df.head()"
   ]
  },
  {
   "cell_type": "code",
   "execution_count": 36,
   "metadata": {},
   "outputs": [
    {
     "data": {
      "text/plain": [
       "(23688, 5)"
      ]
     },
     "execution_count": 36,
     "metadata": {},
     "output_type": "execute_result"
    }
   ],
   "source": [
    "df.shape"
   ]
  },
  {
   "cell_type": "markdown",
   "metadata": {},
   "source": [
    "CHECKING FOR NULLS"
   ]
  },
  {
   "cell_type": "code",
   "execution_count": 37,
   "metadata": {},
   "outputs": [
    {
     "data": {
      "text/plain": [
       "Date         0\n",
       "Country      0\n",
       "Confirmed    0\n",
       "Recovered    0\n",
       "Deaths       0\n",
       "dtype: int64"
      ]
     },
     "execution_count": 37,
     "metadata": {},
     "output_type": "execute_result"
    }
   ],
   "source": [
    "df.isnull().sum()"
   ]
  },
  {
   "cell_type": "markdown",
   "metadata": {},
   "source": [
    "No nulls are present,lets check data type of each column in the dataframe"
   ]
  },
  {
   "cell_type": "code",
   "execution_count": 38,
   "metadata": {},
   "outputs": [
    {
     "name": "stdout",
     "output_type": "stream",
     "text": [
      "<class 'pandas.core.frame.DataFrame'>\n",
      "RangeIndex: 23688 entries, 0 to 23687\n",
      "Data columns (total 5 columns):\n",
      " #   Column     Non-Null Count  Dtype \n",
      "---  ------     --------------  ----- \n",
      " 0   Date       23688 non-null  object\n",
      " 1   Country    23688 non-null  object\n",
      " 2   Confirmed  23688 non-null  int64 \n",
      " 3   Recovered  23688 non-null  int64 \n",
      " 4   Deaths     23688 non-null  int64 \n",
      "dtypes: int64(3), object(2)\n",
      "memory usage: 925.4+ KB\n"
     ]
    }
   ],
   "source": [
    "df.info()"
   ]
  },
  {
   "cell_type": "markdown",
   "metadata": {},
   "source": [
    "OBSERVATION:\n",
    "    \n",
    "    Date column is of object type,as it is difficult to perform operations on date column,\n",
    "    \n",
    "    splitting the date column into 3 different columns, by day,month and year"
   ]
  },
  {
   "cell_type": "code",
   "execution_count": 39,
   "metadata": {},
   "outputs": [],
   "source": [
    "#converting date column to datetime type\n",
    "\n",
    "df['Date']=pd.to_datetime(df['Date'])"
   ]
  },
  {
   "cell_type": "code",
   "execution_count": 40,
   "metadata": {},
   "outputs": [],
   "source": [
    "df['Day']=df['Date'].dt.day\n",
    "df['Month']=df['Date'].dt.month\n",
    "df['Year']=df['Date'].dt.year"
   ]
  },
  {
   "cell_type": "code",
   "execution_count": 41,
   "metadata": {},
   "outputs": [],
   "source": [
    "#deleting date column as it is of no use\n",
    "df.drop(['Date'],axis=1,inplace=True)"
   ]
  },
  {
   "cell_type": "code",
   "execution_count": 42,
   "metadata": {},
   "outputs": [
    {
     "data": {
      "text/html": [
       "<div>\n",
       "<style scoped>\n",
       "    .dataframe tbody tr th:only-of-type {\n",
       "        vertical-align: middle;\n",
       "    }\n",
       "\n",
       "    .dataframe tbody tr th {\n",
       "        vertical-align: top;\n",
       "    }\n",
       "\n",
       "    .dataframe thead th {\n",
       "        text-align: right;\n",
       "    }\n",
       "</style>\n",
       "<table border=\"1\" class=\"dataframe\">\n",
       "  <thead>\n",
       "    <tr style=\"text-align: right;\">\n",
       "      <th></th>\n",
       "      <th>Country</th>\n",
       "      <th>Confirmed</th>\n",
       "      <th>Recovered</th>\n",
       "      <th>Deaths</th>\n",
       "      <th>Day</th>\n",
       "      <th>Month</th>\n",
       "      <th>Year</th>\n",
       "    </tr>\n",
       "  </thead>\n",
       "  <tbody>\n",
       "    <tr>\n",
       "      <th>0</th>\n",
       "      <td>Afghanistan</td>\n",
       "      <td>0</td>\n",
       "      <td>0</td>\n",
       "      <td>0</td>\n",
       "      <td>22</td>\n",
       "      <td>1</td>\n",
       "      <td>2020</td>\n",
       "    </tr>\n",
       "    <tr>\n",
       "      <th>1</th>\n",
       "      <td>Albania</td>\n",
       "      <td>0</td>\n",
       "      <td>0</td>\n",
       "      <td>0</td>\n",
       "      <td>22</td>\n",
       "      <td>1</td>\n",
       "      <td>2020</td>\n",
       "    </tr>\n",
       "    <tr>\n",
       "      <th>2</th>\n",
       "      <td>Algeria</td>\n",
       "      <td>0</td>\n",
       "      <td>0</td>\n",
       "      <td>0</td>\n",
       "      <td>22</td>\n",
       "      <td>1</td>\n",
       "      <td>2020</td>\n",
       "    </tr>\n",
       "    <tr>\n",
       "      <th>3</th>\n",
       "      <td>Andorra</td>\n",
       "      <td>0</td>\n",
       "      <td>0</td>\n",
       "      <td>0</td>\n",
       "      <td>22</td>\n",
       "      <td>1</td>\n",
       "      <td>2020</td>\n",
       "    </tr>\n",
       "    <tr>\n",
       "      <th>4</th>\n",
       "      <td>Angola</td>\n",
       "      <td>0</td>\n",
       "      <td>0</td>\n",
       "      <td>0</td>\n",
       "      <td>22</td>\n",
       "      <td>1</td>\n",
       "      <td>2020</td>\n",
       "    </tr>\n",
       "  </tbody>\n",
       "</table>\n",
       "</div>"
      ],
      "text/plain": [
       "       Country  Confirmed  Recovered  Deaths  Day  Month  Year\n",
       "0  Afghanistan          0          0       0   22      1  2020\n",
       "1      Albania          0          0       0   22      1  2020\n",
       "2      Algeria          0          0       0   22      1  2020\n",
       "3      Andorra          0          0       0   22      1  2020\n",
       "4       Angola          0          0       0   22      1  2020"
      ]
     },
     "execution_count": 42,
     "metadata": {},
     "output_type": "execute_result"
    }
   ],
   "source": [
    "df.head()"
   ]
  },
  {
   "cell_type": "markdown",
   "metadata": {},
   "source": [
    "Lets check the total no.of confirmed,recivered and deaths"
   ]
  },
  {
   "cell_type": "code",
   "execution_count": 44,
   "metadata": {},
   "outputs": [
    {
     "name": "stdout",
     "output_type": "stream",
     "text": [
      "Total no.of Confirmed cases: 188778378\n",
      "\n",
      " Total Recovered cases: 61157719\n",
      "\n",
      " Total Deaths: 12482037\n"
     ]
    }
   ],
   "source": [
    "print(\"Total no.of Confirmed cases:\",df['Confirmed'].sum())\n",
    "print(\"\\n Total Recovered cases:\",df['Recovered'].sum())\n",
    "print(\"\\n Total Deaths:\",df['Deaths'].sum())"
   ]
  },
  {
   "cell_type": "markdown",
   "metadata": {},
   "source": [
    "OBservation::\n",
    "        \n",
    "        after summing up recovered and death cases[61157719+12482037=73639756] its not equal to total confirmed cases\n",
    "        \n",
    "        A difference of 115138622[i.e 188778378-73639756] is still present which must be the active cases.\n",
    "        \n",
    "        Hence adding active cases column"
   ]
  },
  {
   "cell_type": "code",
   "execution_count": 46,
   "metadata": {},
   "outputs": [],
   "source": [
    "df['ActiveCases']=df['Confirmed']-df['Deaths']-df['Recovered']"
   ]
  },
  {
   "cell_type": "code",
   "execution_count": 47,
   "metadata": {},
   "outputs": [
    {
     "data": {
      "text/html": [
       "<div>\n",
       "<style scoped>\n",
       "    .dataframe tbody tr th:only-of-type {\n",
       "        vertical-align: middle;\n",
       "    }\n",
       "\n",
       "    .dataframe tbody tr th {\n",
       "        vertical-align: top;\n",
       "    }\n",
       "\n",
       "    .dataframe thead th {\n",
       "        text-align: right;\n",
       "    }\n",
       "</style>\n",
       "<table border=\"1\" class=\"dataframe\">\n",
       "  <thead>\n",
       "    <tr style=\"text-align: right;\">\n",
       "      <th></th>\n",
       "      <th>Country</th>\n",
       "      <th>Confirmed</th>\n",
       "      <th>Recovered</th>\n",
       "      <th>Deaths</th>\n",
       "      <th>Day</th>\n",
       "      <th>Month</th>\n",
       "      <th>Year</th>\n",
       "      <th>ActiveCases</th>\n",
       "    </tr>\n",
       "  </thead>\n",
       "  <tbody>\n",
       "    <tr>\n",
       "      <th>0</th>\n",
       "      <td>Afghanistan</td>\n",
       "      <td>0</td>\n",
       "      <td>0</td>\n",
       "      <td>0</td>\n",
       "      <td>22</td>\n",
       "      <td>1</td>\n",
       "      <td>2020</td>\n",
       "      <td>0</td>\n",
       "    </tr>\n",
       "    <tr>\n",
       "      <th>1</th>\n",
       "      <td>Albania</td>\n",
       "      <td>0</td>\n",
       "      <td>0</td>\n",
       "      <td>0</td>\n",
       "      <td>22</td>\n",
       "      <td>1</td>\n",
       "      <td>2020</td>\n",
       "      <td>0</td>\n",
       "    </tr>\n",
       "    <tr>\n",
       "      <th>2</th>\n",
       "      <td>Algeria</td>\n",
       "      <td>0</td>\n",
       "      <td>0</td>\n",
       "      <td>0</td>\n",
       "      <td>22</td>\n",
       "      <td>1</td>\n",
       "      <td>2020</td>\n",
       "      <td>0</td>\n",
       "    </tr>\n",
       "    <tr>\n",
       "      <th>3</th>\n",
       "      <td>Andorra</td>\n",
       "      <td>0</td>\n",
       "      <td>0</td>\n",
       "      <td>0</td>\n",
       "      <td>22</td>\n",
       "      <td>1</td>\n",
       "      <td>2020</td>\n",
       "      <td>0</td>\n",
       "    </tr>\n",
       "    <tr>\n",
       "      <th>4</th>\n",
       "      <td>Angola</td>\n",
       "      <td>0</td>\n",
       "      <td>0</td>\n",
       "      <td>0</td>\n",
       "      <td>22</td>\n",
       "      <td>1</td>\n",
       "      <td>2020</td>\n",
       "      <td>0</td>\n",
       "    </tr>\n",
       "  </tbody>\n",
       "</table>\n",
       "</div>"
      ],
      "text/plain": [
       "       Country  Confirmed  Recovered  Deaths  Day  Month  Year  ActiveCases\n",
       "0  Afghanistan          0          0       0   22      1  2020            0\n",
       "1      Albania          0          0       0   22      1  2020            0\n",
       "2      Algeria          0          0       0   22      1  2020            0\n",
       "3      Andorra          0          0       0   22      1  2020            0\n",
       "4       Angola          0          0       0   22      1  2020            0"
      ]
     },
     "execution_count": 47,
     "metadata": {},
     "output_type": "execute_result"
    }
   ],
   "source": [
    "df.head()"
   ]
  },
  {
   "cell_type": "markdown",
   "metadata": {},
   "source": [
    "There are 195 countries in the world, but this data frame has 23688 columns\n",
    "\n",
    "which means there must be repititions in country columns\n",
    "\n",
    "Lets check for the redundancies in both country and month columns"
   ]
  },
  {
   "cell_type": "code",
   "execution_count": 48,
   "metadata": {},
   "outputs": [
    {
     "data": {
      "text/plain": [
       "188"
      ]
     },
     "execution_count": 48,
     "metadata": {},
     "output_type": "execute_result"
    }
   ],
   "source": [
    "df['Country'].nunique()"
   ]
  },
  {
   "cell_type": "code",
   "execution_count": 49,
   "metadata": {},
   "outputs": [
    {
     "data": {
      "text/plain": [
       "Western Sahara         126\n",
       "Congo (Brazzaville)    126\n",
       "Trinidad and Tobago    126\n",
       "MS Zaandam             126\n",
       "Cuba                   126\n",
       "                      ... \n",
       "Morocco                126\n",
       "Chile                  126\n",
       "Turkey                 126\n",
       "Tajikistan             126\n",
       "Bahrain                126\n",
       "Name: Country, Length: 188, dtype: int64"
      ]
     },
     "execution_count": 49,
     "metadata": {},
     "output_type": "execute_result"
    }
   ],
   "source": [
    "df['Country'].value_counts()"
   ]
  },
  {
   "cell_type": "markdown",
   "metadata": {},
   "source": [
    "There are 188 countries each country has 126 columns(188*126=23688).\n",
    "\n",
    "Each country has been repeated for 126 times causing huge no.of rows and there by causing increase in dimensionality\n",
    "\n",
    "Action:\n",
    "    \n",
    "Grouping the data frame by country name and check whether the dimension has reduced"
   ]
  },
  {
   "cell_type": "code",
   "execution_count": 50,
   "metadata": {},
   "outputs": [
    {
     "data": {
      "text/plain": [
       "(188, 5)"
      ]
     },
     "execution_count": 50,
     "metadata": {},
     "output_type": "execute_result"
    }
   ],
   "source": [
    "#creating a new dataframe and assigning the grouped values to it.\n",
    "df1=df.groupby(\"Country\")[['Confirmed', 'Deaths', 'Recovered','ActiveCases']].sum().reset_index()\n",
    "df1.shape"
   ]
  },
  {
   "cell_type": "markdown",
   "metadata": {},
   "source": [
    "Observation::\n",
    "        \n",
    "We can observe there has been huge reduction in no.of rows,lets check how the dataframe looks"
   ]
  },
  {
   "cell_type": "code",
   "execution_count": 52,
   "metadata": {},
   "outputs": [
    {
     "data": {
      "text/html": [
       "<div>\n",
       "<style scoped>\n",
       "    .dataframe tbody tr th:only-of-type {\n",
       "        vertical-align: middle;\n",
       "    }\n",
       "\n",
       "    .dataframe tbody tr th {\n",
       "        vertical-align: top;\n",
       "    }\n",
       "\n",
       "    .dataframe thead th {\n",
       "        text-align: right;\n",
       "    }\n",
       "</style>\n",
       "<table border=\"1\" class=\"dataframe\">\n",
       "  <thead>\n",
       "    <tr style=\"text-align: right;\">\n",
       "      <th></th>\n",
       "      <th>Country</th>\n",
       "      <th>Confirmed</th>\n",
       "      <th>Deaths</th>\n",
       "      <th>Recovered</th>\n",
       "      <th>ActiveCases</th>\n",
       "    </tr>\n",
       "  </thead>\n",
       "  <tbody>\n",
       "    <tr>\n",
       "      <th>0</th>\n",
       "      <td>Afghanistan</td>\n",
       "      <td>185236</td>\n",
       "      <td>4669</td>\n",
       "      <td>20845</td>\n",
       "      <td>159722</td>\n",
       "    </tr>\n",
       "    <tr>\n",
       "      <th>1</th>\n",
       "      <td>Albania</td>\n",
       "      <td>41253</td>\n",
       "      <td>1629</td>\n",
       "      <td>25688</td>\n",
       "      <td>13936</td>\n",
       "    </tr>\n",
       "    <tr>\n",
       "      <th>2</th>\n",
       "      <td>Algeria</td>\n",
       "      <td>240070</td>\n",
       "      <td>23232</td>\n",
       "      <td>107345</td>\n",
       "      <td>109493</td>\n",
       "    </tr>\n",
       "    <tr>\n",
       "      <th>3</th>\n",
       "      <td>Andorra</td>\n",
       "      <td>41573</td>\n",
       "      <td>2219</td>\n",
       "      <td>20751</td>\n",
       "      <td>18603</td>\n",
       "    </tr>\n",
       "    <tr>\n",
       "      <th>4</th>\n",
       "      <td>Angola</td>\n",
       "      <td>1892</td>\n",
       "      <td>131</td>\n",
       "      <td>506</td>\n",
       "      <td>1255</td>\n",
       "    </tr>\n",
       "  </tbody>\n",
       "</table>\n",
       "</div>"
      ],
      "text/plain": [
       "       Country  Confirmed  Deaths  Recovered  ActiveCases\n",
       "0  Afghanistan     185236    4669      20845       159722\n",
       "1      Albania      41253    1629      25688        13936\n",
       "2      Algeria     240070   23232     107345       109493\n",
       "3      Andorra      41573    2219      20751        18603\n",
       "4       Angola       1892     131        506         1255"
      ]
     },
     "execution_count": 52,
     "metadata": {},
     "output_type": "execute_result"
    }
   ],
   "source": [
    "df1.head()"
   ]
  },
  {
   "cell_type": "code",
   "execution_count": 53,
   "metadata": {},
   "outputs": [
    {
     "data": {
      "text/html": [
       "<div>\n",
       "<style scoped>\n",
       "    .dataframe tbody tr th:only-of-type {\n",
       "        vertical-align: middle;\n",
       "    }\n",
       "\n",
       "    .dataframe tbody tr th {\n",
       "        vertical-align: top;\n",
       "    }\n",
       "\n",
       "    .dataframe thead th {\n",
       "        text-align: right;\n",
       "    }\n",
       "</style>\n",
       "<table border=\"1\" class=\"dataframe\">\n",
       "  <thead>\n",
       "    <tr style=\"text-align: right;\">\n",
       "      <th></th>\n",
       "      <th>Confirmed</th>\n",
       "      <th>Deaths</th>\n",
       "      <th>Recovered</th>\n",
       "      <th>ActiveCases</th>\n",
       "    </tr>\n",
       "  </thead>\n",
       "  <tbody>\n",
       "    <tr>\n",
       "      <th>count</th>\n",
       "      <td>1.880000e+02</td>\n",
       "      <td>1.880000e+02</td>\n",
       "      <td>1.880000e+02</td>\n",
       "      <td>1.880000e+02</td>\n",
       "    </tr>\n",
       "    <tr>\n",
       "      <th>mean</th>\n",
       "      <td>1.004140e+06</td>\n",
       "      <td>6.639381e+04</td>\n",
       "      <td>3.253070e+05</td>\n",
       "      <td>6.124395e+05</td>\n",
       "    </tr>\n",
       "    <tr>\n",
       "      <th>std</th>\n",
       "      <td>4.567753e+06</td>\n",
       "      <td>3.088152e+05</td>\n",
       "      <td>1.121162e+06</td>\n",
       "      <td>3.452707e+06</td>\n",
       "    </tr>\n",
       "    <tr>\n",
       "      <th>min</th>\n",
       "      <td>1.900000e+01</td>\n",
       "      <td>0.000000e+00</td>\n",
       "      <td>0.000000e+00</td>\n",
       "      <td>1.900000e+01</td>\n",
       "    </tr>\n",
       "    <tr>\n",
       "      <th>25%</th>\n",
       "      <td>7.594250e+03</td>\n",
       "      <td>1.582500e+02</td>\n",
       "      <td>2.169500e+03</td>\n",
       "      <td>4.629250e+03</td>\n",
       "    </tr>\n",
       "    <tr>\n",
       "      <th>50%</th>\n",
       "      <td>4.642850e+04</td>\n",
       "      <td>8.435000e+02</td>\n",
       "      <td>1.776400e+04</td>\n",
       "      <td>2.802350e+04</td>\n",
       "    </tr>\n",
       "    <tr>\n",
       "      <th>75%</th>\n",
       "      <td>3.891915e+05</td>\n",
       "      <td>8.738750e+03</td>\n",
       "      <td>1.076598e+05</td>\n",
       "      <td>2.323178e+05</td>\n",
       "    </tr>\n",
       "    <tr>\n",
       "      <th>max</th>\n",
       "      <td>5.709877e+07</td>\n",
       "      <td>3.221969e+06</td>\n",
       "      <td>8.428678e+06</td>\n",
       "      <td>4.544812e+07</td>\n",
       "    </tr>\n",
       "  </tbody>\n",
       "</table>\n",
       "</div>"
      ],
      "text/plain": [
       "          Confirmed        Deaths     Recovered   ActiveCases\n",
       "count  1.880000e+02  1.880000e+02  1.880000e+02  1.880000e+02\n",
       "mean   1.004140e+06  6.639381e+04  3.253070e+05  6.124395e+05\n",
       "std    4.567753e+06  3.088152e+05  1.121162e+06  3.452707e+06\n",
       "min    1.900000e+01  0.000000e+00  0.000000e+00  1.900000e+01\n",
       "25%    7.594250e+03  1.582500e+02  2.169500e+03  4.629250e+03\n",
       "50%    4.642850e+04  8.435000e+02  1.776400e+04  2.802350e+04\n",
       "75%    3.891915e+05  8.738750e+03  1.076598e+05  2.323178e+05\n",
       "max    5.709877e+07  3.221969e+06  8.428678e+06  4.544812e+07"
      ]
     },
     "execution_count": 53,
     "metadata": {},
     "output_type": "execute_result"
    }
   ],
   "source": [
    "df1.describe()"
   ]
  },
  {
   "cell_type": "markdown",
   "metadata": {},
   "source": [
    "Lets check grouping by months and observe the pattern"
   ]
  },
  {
   "cell_type": "code",
   "execution_count": 54,
   "metadata": {},
   "outputs": [
    {
     "data": {
      "text/html": [
       "<div>\n",
       "<style scoped>\n",
       "    .dataframe tbody tr th:only-of-type {\n",
       "        vertical-align: middle;\n",
       "    }\n",
       "\n",
       "    .dataframe tbody tr th {\n",
       "        vertical-align: top;\n",
       "    }\n",
       "\n",
       "    .dataframe thead th {\n",
       "        text-align: right;\n",
       "    }\n",
       "</style>\n",
       "<table border=\"1\" class=\"dataframe\">\n",
       "  <thead>\n",
       "    <tr style=\"text-align: right;\">\n",
       "      <th></th>\n",
       "      <th>Month</th>\n",
       "      <th>Confirmed</th>\n",
       "      <th>Deaths</th>\n",
       "      <th>Recovered</th>\n",
       "      <th>ActiveCases</th>\n",
       "    </tr>\n",
       "  </thead>\n",
       "  <tbody>\n",
       "    <tr>\n",
       "      <th>0</th>\n",
       "      <td>1</td>\n",
       "      <td>38534</td>\n",
       "      <td>889</td>\n",
       "      <td>844</td>\n",
       "      <td>36801</td>\n",
       "    </tr>\n",
       "    <tr>\n",
       "      <th>1</th>\n",
       "      <td>2</td>\n",
       "      <td>1671783</td>\n",
       "      <td>46898</td>\n",
       "      <td>380794</td>\n",
       "      <td>1244091</td>\n",
       "    </tr>\n",
       "    <tr>\n",
       "      <th>2</th>\n",
       "      <td>3</td>\n",
       "      <td>8899917</td>\n",
       "      <td>396863</td>\n",
       "      <td>2706089</td>\n",
       "      <td>5796965</td>\n",
       "    </tr>\n",
       "    <tr>\n",
       "      <th>3</th>\n",
       "      <td>4</td>\n",
       "      <td>63046693</td>\n",
       "      <td>4291044</td>\n",
       "      <td>16322390</td>\n",
       "      <td>42433259</td>\n",
       "    </tr>\n",
       "    <tr>\n",
       "      <th>4</th>\n",
       "      <td>5</td>\n",
       "      <td>115121451</td>\n",
       "      <td>7746343</td>\n",
       "      <td>41747602</td>\n",
       "      <td>65627506</td>\n",
       "    </tr>\n",
       "  </tbody>\n",
       "</table>\n",
       "</div>"
      ],
      "text/plain": [
       "   Month  Confirmed   Deaths  Recovered  ActiveCases\n",
       "0      1      38534      889        844        36801\n",
       "1      2    1671783    46898     380794      1244091\n",
       "2      3    8899917   396863    2706089      5796965\n",
       "3      4   63046693  4291044   16322390     42433259\n",
       "4      5  115121451  7746343   41747602     65627506"
      ]
     },
     "execution_count": 54,
     "metadata": {},
     "output_type": "execute_result"
    }
   ],
   "source": [
    "df.groupby('Month')[['Confirmed', 'Deaths', 'Recovered','ActiveCases']].sum().reset_index()"
   ]
  },
  {
   "cell_type": "markdown",
   "metadata": {},
   "source": [
    "OBSERVATION::\n",
    "        \n",
    "We can see that all the 4 parameters[confirmed,deaths,recovered and active cases] increases exponentially with each month"
   ]
  },
  {
   "cell_type": "markdown",
   "metadata": {},
   "source": [
    "Selecting the \"df1\" dataframe for further processing."
   ]
  },
  {
   "cell_type": "markdown",
   "metadata": {},
   "source": [
    "# EXPLORATORY DATA ANALYSIS"
   ]
  },
  {
   "cell_type": "code",
   "execution_count": 83,
   "metadata": {},
   "outputs": [],
   "source": [
    "import matplotlib.pyplot as plt\n",
    "%matplotlib inline\n",
    "import seaborn as sns"
   ]
  },
  {
   "cell_type": "markdown",
   "metadata": {},
   "source": [
    "Month wise confirmed cases"
   ]
  },
  {
   "cell_type": "code",
   "execution_count": 86,
   "metadata": {},
   "outputs": [
    {
     "data": {
      "text/plain": [
       "<matplotlib.axes._subplots.AxesSubplot at 0x224f2f79088>"
      ]
     },
     "execution_count": 86,
     "metadata": {},
     "output_type": "execute_result"
    },
    {
     "data": {
      "image/png": "[encoded data removed]",
      "text/plain": [
       "<Figure size 432x288 with 1 Axes>"
      ]
     },
     "metadata": {
      "needs_background": "light"
     },
     "output_type": "display_data"
    }
   ],
   "source": [
    "sns.regplot(y=df['Confirmed'],x=df['Month'])\n"
   ]
  },
  {
   "cell_type": "code",
   "execution_count": 92,
   "metadata": {},
   "outputs": [
    {
     "data": {
      "text/plain": [
       "<matplotlib.axes._subplots.AxesSubplot at 0x224fa271d48>"
      ]
     },
     "execution_count": 92,
     "metadata": {},
     "output_type": "execute_result"
    },
    {
     "data": {
      "image/png": "[encoded data removed]",
      "text/plain": [
       "<Figure size 432x288 with 1 Axes>"
      ]
     },
     "metadata": {
      "needs_background": "light"
     },
     "output_type": "display_data"
    }
   ],
   "source": [
    "sns.regplot(y=df['Recovered'],x=df['Month'])\n"
   ]
  },
  {
   "cell_type": "code",
   "execution_count": 93,
   "metadata": {},
   "outputs": [
    {
     "data": {
      "text/plain": [
       "<matplotlib.axes._subplots.AxesSubplot at 0x224fa476b08>"
      ]
     },
     "execution_count": 93,
     "metadata": {},
     "output_type": "execute_result"
    },
    {
     "data": {
      "image/png": "[encoded data removed]",
      "text/plain": [
       "<Figure size 432x288 with 1 Axes>"
      ]
     },
     "metadata": {
      "needs_background": "light"
     },
     "output_type": "display_data"
    }
   ],
   "source": [
    "sns.regplot(y=df['ActiveCases'],x=df['Month'])\n"
   ]
  },
  {
   "cell_type": "code",
   "execution_count": 94,
   "metadata": {},
   "outputs": [
    {
     "data": {
      "text/plain": [
       "<matplotlib.axes._subplots.AxesSubplot at 0x224fa4869c8>"
      ]
     },
     "execution_count": 94,
     "metadata": {},
     "output_type": "execute_result"
    },
    {
     "data": {
      "image/png": "[encoded data removed]",
      "text/plain": [
       "<Figure size 432x288 with 1 Axes>"
      ]
     },
     "metadata": {
      "needs_background": "light"
     },
     "output_type": "display_data"
    }
   ],
   "source": [
    "sns.regplot(y=df['Deaths'],x=df['Month'])\n"
   ]
  },
  {
   "cell_type": "code",
   "execution_count": null,
   "metadata": {},
   "outputs": [],
   "source": []
  },
  {
   "cell_type": "markdown",
   "metadata": {},
   "source": [
    "# PLOTTING OUTLIERS:"
   ]
  },
  {
   "cell_type": "code",
   "execution_count": 56,
   "metadata": {},
   "outputs": [
    {
     "data": {
      "text/plain": [
       "<matplotlib.axes._subplots.AxesSubplot at 0x224f031bcc8>"
      ]
     },
     "execution_count": 56,
     "metadata": {},
     "output_type": "execute_result"
    },
    {
     "data": {
      "image/png": "[encoded data removed]",
      "text/plain": [
       "<Figure size 432x288 with 1 Axes>"
      ]
     },
     "metadata": {
      "needs_background": "light"
     },
     "output_type": "display_data"
    }
   ],
   "source": [
    "df1.boxplot()"
   ]
  },
  {
   "cell_type": "markdown",
   "metadata": {},
   "source": [
    "OBSERVATION:\n",
    "    \n",
    "    All the columns has outliers"
   ]
  },
  {
   "cell_type": "code",
   "execution_count": 57,
   "metadata": {},
   "outputs": [
    {
     "data": {
      "text/plain": [
       "<seaborn.axisgrid.PairGrid at 0x224f043ffc8>"
      ]
     },
     "execution_count": 57,
     "metadata": {},
     "output_type": "execute_result"
    },
    {
     "data": {
      "image/png": "[encoded data removed]",
      "text/plain": [
       "<Figure size 720x720 with 20 Axes>"
      ]
     },
     "metadata": {
      "needs_background": "light"
     },
     "output_type": "display_data"
    }
   ],
   "source": [
    "sns.pairplot(df1)"
   ]
  },
  {
   "cell_type": "markdown",
   "metadata": {},
   "source": [
    "# Checking for skewness"
   ]
  },
  {
   "cell_type": "code",
   "execution_count": 58,
   "metadata": {},
   "outputs": [
    {
     "data": {
      "text/plain": [
       "Confirmed      10.303690\n",
       "Deaths          7.399787\n",
       "Recovered       5.019751\n",
       "ActiveCases    11.946843\n",
       "dtype: float64"
      ]
     },
     "execution_count": 58,
     "metadata": {},
     "output_type": "execute_result"
    }
   ],
   "source": [
    "df1.skew()"
   ]
  },
  {
   "cell_type": "markdown",
   "metadata": {},
   "source": [
    "OBSERVATION:\n",
    "    \n",
    "Skewness is present in all the columns"
   ]
  },
  {
   "cell_type": "markdown",
   "metadata": {},
   "source": [
    "# Checking for correlation"
   ]
  },
  {
   "cell_type": "code",
   "execution_count": 59,
   "metadata": {},
   "outputs": [],
   "source": [
    "df_cor=df1.corr()"
   ]
  },
  {
   "cell_type": "code",
   "execution_count": 60,
   "metadata": {},
   "outputs": [
    {
     "data": {
      "text/html": [
       "<div>\n",
       "<style scoped>\n",
       "    .dataframe tbody tr th:only-of-type {\n",
       "        vertical-align: middle;\n",
       "    }\n",
       "\n",
       "    .dataframe tbody tr th {\n",
       "        vertical-align: top;\n",
       "    }\n",
       "\n",
       "    .dataframe thead th {\n",
       "        text-align: right;\n",
       "    }\n",
       "</style>\n",
       "<table border=\"1\" class=\"dataframe\">\n",
       "  <thead>\n",
       "    <tr style=\"text-align: right;\">\n",
       "      <th></th>\n",
       "      <th>Confirmed</th>\n",
       "      <th>Deaths</th>\n",
       "      <th>Recovered</th>\n",
       "      <th>ActiveCases</th>\n",
       "    </tr>\n",
       "  </thead>\n",
       "  <tbody>\n",
       "    <tr>\n",
       "      <th>Confirmed</th>\n",
       "      <td>1.000000</td>\n",
       "      <td>0.926449</td>\n",
       "      <td>0.801388</td>\n",
       "      <td>0.979859</td>\n",
       "    </tr>\n",
       "    <tr>\n",
       "      <th>Deaths</th>\n",
       "      <td>0.926449</td>\n",
       "      <td>1.000000</td>\n",
       "      <td>0.759967</td>\n",
       "      <td>0.889426</td>\n",
       "    </tr>\n",
       "    <tr>\n",
       "      <th>Recovered</th>\n",
       "      <td>0.801388</td>\n",
       "      <td>0.759967</td>\n",
       "      <td>1.000000</td>\n",
       "      <td>0.667502</td>\n",
       "    </tr>\n",
       "    <tr>\n",
       "      <th>ActiveCases</th>\n",
       "      <td>0.979859</td>\n",
       "      <td>0.889426</td>\n",
       "      <td>0.667502</td>\n",
       "      <td>1.000000</td>\n",
       "    </tr>\n",
       "  </tbody>\n",
       "</table>\n",
       "</div>"
      ],
      "text/plain": [
       "             Confirmed    Deaths  Recovered  ActiveCases\n",
       "Confirmed     1.000000  0.926449   0.801388     0.979859\n",
       "Deaths        0.926449  1.000000   0.759967     0.889426\n",
       "Recovered     0.801388  0.759967   1.000000     0.667502\n",
       "ActiveCases   0.979859  0.889426   0.667502     1.000000"
      ]
     },
     "execution_count": 60,
     "metadata": {},
     "output_type": "execute_result"
    }
   ],
   "source": [
    "df_cor"
   ]
  },
  {
   "cell_type": "code",
   "execution_count": 61,
   "metadata": {},
   "outputs": [
    {
     "data": {
      "text/plain": [
       "Deaths         1.000000\n",
       "Confirmed      0.926449\n",
       "ActiveCases    0.889426\n",
       "Recovered      0.759967\n",
       "Name: Deaths, dtype: float64"
      ]
     },
     "execution_count": 61,
     "metadata": {},
     "output_type": "execute_result"
    }
   ],
   "source": [
    "df_cor['Deaths'].sort_values(ascending=False)"
   ]
  },
  {
   "cell_type": "markdown",
   "metadata": {},
   "source": [
    "Observation:\n",
    "\n",
    "All the 3 columns[confirmed,active cases and recovered] are highly positively correlated with deaths"
   ]
  },
  {
   "cell_type": "markdown",
   "metadata": {},
   "source": [
    "# Plotting correlations by heat map"
   ]
  },
  {
   "cell_type": "code",
   "execution_count": 62,
   "metadata": {},
   "outputs": [
    {
     "data": {
      "text/plain": [
       "<matplotlib.axes._subplots.AxesSubplot at 0x224f0105cc8>"
      ]
     },
     "execution_count": 62,
     "metadata": {},
     "output_type": "execute_result"
    },
    {
     "data": {
      "image/png": "[encoded data removed]",
      "text/plain": [
       "<Figure size 360x360 with 2 Axes>"
      ]
     },
     "metadata": {
      "needs_background": "light"
     },
     "output_type": "display_data"
    }
   ],
   "source": [
    "plt.figure(figsize=(5,5))\n",
    "sns.heatmap(df_cor,cmap='OrRd_r',annot=True)"
   ]
  },
  {
   "cell_type": "markdown",
   "metadata": {},
   "source": [
    "As country is of object type converting it into numeric through label encoding"
   ]
  },
  {
   "cell_type": "code",
   "execution_count": 63,
   "metadata": {},
   "outputs": [],
   "source": [
    "from sklearn.preprocessing import LabelEncoder"
   ]
  },
  {
   "cell_type": "code",
   "execution_count": 64,
   "metadata": {},
   "outputs": [],
   "source": [
    "le=LabelEncoder()\n",
    "df1['Country']=le.fit_transform(df1['Country'])"
   ]
  },
  {
   "cell_type": "code",
   "execution_count": 65,
   "metadata": {},
   "outputs": [
    {
     "data": {
      "text/html": [
       "<div>\n",
       "<style scoped>\n",
       "    .dataframe tbody tr th:only-of-type {\n",
       "        vertical-align: middle;\n",
       "    }\n",
       "\n",
       "    .dataframe tbody tr th {\n",
       "        vertical-align: top;\n",
       "    }\n",
       "\n",
       "    .dataframe thead th {\n",
       "        text-align: right;\n",
       "    }\n",
       "</style>\n",
       "<table border=\"1\" class=\"dataframe\">\n",
       "  <thead>\n",
       "    <tr style=\"text-align: right;\">\n",
       "      <th></th>\n",
       "      <th>Country</th>\n",
       "      <th>Confirmed</th>\n",
       "      <th>Deaths</th>\n",
       "      <th>Recovered</th>\n",
       "      <th>ActiveCases</th>\n",
       "    </tr>\n",
       "  </thead>\n",
       "  <tbody>\n",
       "    <tr>\n",
       "      <th>0</th>\n",
       "      <td>0</td>\n",
       "      <td>185236</td>\n",
       "      <td>4669</td>\n",
       "      <td>20845</td>\n",
       "      <td>159722</td>\n",
       "    </tr>\n",
       "    <tr>\n",
       "      <th>1</th>\n",
       "      <td>1</td>\n",
       "      <td>41253</td>\n",
       "      <td>1629</td>\n",
       "      <td>25688</td>\n",
       "      <td>13936</td>\n",
       "    </tr>\n",
       "    <tr>\n",
       "      <th>2</th>\n",
       "      <td>2</td>\n",
       "      <td>240070</td>\n",
       "      <td>23232</td>\n",
       "      <td>107345</td>\n",
       "      <td>109493</td>\n",
       "    </tr>\n",
       "    <tr>\n",
       "      <th>3</th>\n",
       "      <td>3</td>\n",
       "      <td>41573</td>\n",
       "      <td>2219</td>\n",
       "      <td>20751</td>\n",
       "      <td>18603</td>\n",
       "    </tr>\n",
       "    <tr>\n",
       "      <th>4</th>\n",
       "      <td>4</td>\n",
       "      <td>1892</td>\n",
       "      <td>131</td>\n",
       "      <td>506</td>\n",
       "      <td>1255</td>\n",
       "    </tr>\n",
       "  </tbody>\n",
       "</table>\n",
       "</div>"
      ],
      "text/plain": [
       "   Country  Confirmed  Deaths  Recovered  ActiveCases\n",
       "0        0     185236    4669      20845       159722\n",
       "1        1      41253    1629      25688        13936\n",
       "2        2     240070   23232     107345       109493\n",
       "3        3      41573    2219      20751        18603\n",
       "4        4       1892     131        506         1255"
      ]
     },
     "execution_count": 65,
     "metadata": {},
     "output_type": "execute_result"
    }
   ],
   "source": [
    "df1.head()"
   ]
  },
  {
   "cell_type": "markdown",
   "metadata": {},
   "source": [
    "# Outlier Removal:"
   ]
  },
  {
   "cell_type": "code",
   "execution_count": 66,
   "metadata": {},
   "outputs": [
    {
     "name": "stdout",
     "output_type": "stream",
     "text": [
      "[[1.72286214e+00 1.79758200e-01 2.00409961e-01 2.72284493e-01\n",
      "  1.31469699e-01]\n",
      " [1.70443581e+00 2.11363999e-01 2.10280323e-01 2.67953332e-01\n",
      "  1.73806129e-01]\n",
      " [1.68600948e+00 1.67721555e-01 1.40139061e-01 1.94926375e-01\n",
      "  1.46056261e-01]\n",
      " [1.66758315e+00 2.11293756e-01 2.08364694e-01 2.72368558e-01\n",
      "  1.72450826e-01]\n",
      " [1.64915681e+00 2.20004157e-01 2.15144074e-01 2.90473935e-01\n",
      "  1.77488706e-01]\n",
      " [1.63073048e+00 2.20127961e-01 2.15114853e-01 2.90397918e-01\n",
      "  1.77679790e-01]\n",
      " [1.61230415e+00 1.58398499e-01 1.74636626e-01 2.18025598e-01\n",
      "  1.23136056e-01]\n",
      " [1.59387781e+00 1.87672876e-01 2.09199129e-01 2.37875781e-01\n",
      "  1.52327475e-01]\n",
      " [1.57545148e+00 1.31279278e-01 2.00754125e-01 6.15484583e-02\n",
      "  1.35733951e-01]\n",
      " [1.55702515e+00 1.86338861e-02 1.23210090e-01 2.58998543e-01\n",
      "  9.77335015e-02]\n",
      " [1.53859881e+00 1.95442454e-01 2.11020600e-01 2.31763148e-01\n",
      "  1.64428203e-01]\n",
      " [1.52017248e+00 2.19518819e-01 2.13877811e-01 2.89805883e-01\n",
      "  1.77176816e-01]\n",
      " [1.50174615e+00 1.73284832e-01 2.13949241e-01 2.03522516e-01\n",
      "  1.44023162e-01]\n",
      " [1.48331981e+00 9.11448324e-02 1.83091371e-01 2.04433821e-01\n",
      "  3.78202490e-02]\n",
      " [1.46489348e+00 2.19417844e-01 2.14582373e-01 2.89057343e-01\n",
      "  1.77223280e-01]\n",
      " [1.44646715e+00 3.70018770e-02 1.99215128e-01 8.13101039e-02\n",
      "  4.73048418e-03]\n",
      " [1.42804081e+00 3.24176742e-01 9.62062229e-01 2.34414759e-01\n",
      "  2.66701710e-01]\n",
      " [1.40961448e+00 2.20222570e-01 2.15251220e-01 2.90509708e-01\n",
      "  1.77756456e-01]\n",
      " [1.39118815e+00 2.18946116e-01 2.15299922e-01 2.88918724e-01\n",
      "  1.76580041e-01]\n",
      " [1.37276182e+00 2.20286009e-01 2.15569409e-01 2.90739546e-01\n",
      "  1.77737290e-01]\n",
      " [1.35433548e+00 1.96559983e-01 1.99711893e-01 2.81145351e-01\n",
      "  1.50882729e-01]\n",
      " [1.33590915e+00 2.00078738e-01 2.01585313e-01 2.53562934e-01\n",
      "  1.64326853e-01]\n",
      " [1.31748282e+00 2.20175376e-01 2.15384340e-01 2.90586619e-01\n",
      "  1.77657139e-01]\n",
      " [1.29905648e+00 1.25061104e+00 1.20718813e+00 2.09397782e+00\n",
      "  8.66565175e-01]\n",
      " [1.28063015e+00 2.18350364e-01 2.15374599e-01 2.84928297e-01\n",
      "  1.77080983e-01]\n",
      " [1.26220382e+00 2.02252772e-01 2.03280158e-01 2.75079222e-01\n",
      "  1.60064634e-01]\n",
      " [1.24377748e+00 2.12317115e-01 2.08111441e-01 2.69724073e-01\n",
      "  1.74686044e-01]\n",
      " [1.22535115e+00 2.18844263e-01 2.14702505e-01 2.88845390e-01\n",
      "  1.76522542e-01]\n",
      " [1.20692482e+00 2.20239034e-01 2.15426548e-01 2.90615237e-01\n",
      "  1.77728287e-01]\n",
      " [1.18849848e+00 2.18495022e-01 2.15241479e-01 2.89195067e-01\n",
      "  1.75898760e-01]\n",
      " [1.17007215e+00 2.18658118e-01 2.15569409e-01 2.85660740e-01\n",
      "  1.77232863e-01]\n",
      " [1.15164582e+00 1.95625307e-01 2.02380787e-01 2.49423157e-01\n",
      "  1.59708312e-01]\n",
      " [1.13321949e+00 4.15686114e-01 3.68233305e-01 7.91138331e-01\n",
      "  2.60097696e-01]\n",
      " [1.11479315e+00 2.18768752e-01 2.15556422e-01 2.90498082e-01\n",
      "  1.75809607e-01]\n",
      " [1.09636682e+00 2.17972806e-01 2.12225174e-01 2.88217582e-01\n",
      "  1.75795087e-01]\n",
      " [1.07794049e+00 6.99338238e-02 1.68714409e-01 2.09119996e-01\n",
      "  3.97035131e-02]\n",
      " [1.05951415e+00 1.72699323e+00 1.03334638e+00 5.76935682e+00\n",
      "  3.18874899e-01]\n",
      " [1.04108782e+00 1.18107543e-01 1.57214138e-01 1.98899809e-01\n",
      "  7.76020191e-02]\n",
      " [1.02266149e+00 2.20278107e-01 2.15501226e-01 2.90807514e-01\n",
      "  1.77710863e-01]\n",
      " [1.00423515e+00 2.17625979e-01 2.13984956e-01 2.88847179e-01\n",
      "  1.74974413e-01]\n",
      " [9.85808821e-01 2.10885247e-01 2.09137439e-01 2.85637488e-01\n",
      "  1.67532592e-01]\n",
      " [9.67382487e-01 2.11103221e-01 2.14413538e-01 2.75784836e-01\n",
      "  1.70548408e-01]\n",
      " [9.48956154e-01 2.04730169e-01 2.12842072e-01 2.63930710e-01\n",
      "  1.66107012e-01]\n",
      " [9.30529821e-01 1.95620039e-01 2.04387327e-01 2.33177952e-01\n",
      "  1.64797012e-01]\n",
      " [9.12103488e-01 2.04312660e-01 2.06260748e-01 2.54693346e-01\n",
      "  1.69142866e-01]\n",
      " [8.93677155e-01 2.10446226e-01 2.12919996e-01 2.78073384e-01\n",
      "  1.69069685e-01]\n",
      " [8.75250822e-01 1.26678774e-01 1.76230820e-01 1.42223585e-01\n",
      "  1.05644321e-01]\n",
      " [8.56824489e-01 1.07106109e-01 1.39502682e-01 8.80807944e-03\n",
      "  1.32078671e-01]\n",
      " [8.38398156e-01 2.04633145e-01 2.12426478e-01 2.50789668e-01\n",
      "  1.70282981e-01]\n",
      " [8.19971823e-01 2.08217095e-01 2.14981733e-01 2.65741695e-01\n",
      "  1.69940598e-01]\n",
      " [8.01545490e-01 2.20209839e-01 2.15569409e-01 2.90401496e-01\n",
      "  1.77746292e-01]\n",
      " [7.83119156e-01 1.29112269e-01 1.62623356e-01 1.78911903e-01\n",
      "  9.81673609e-02]\n",
      " [7.64692823e-01 3.73145442e-02 2.22868438e-02 1.66067772e-01\n",
      "  1.01297317e-01]\n",
      " [7.46266490e-01 1.36223974e-01 1.45795038e-01 2.04121706e-01\n",
      "  1.00894809e-01]\n",
      " [7.27840157e-01 2.12679966e-01 2.13040129e-01 2.80677625e-01\n",
      "  1.71168415e-01]\n",
      " [7.09413824e-01 2.16284989e-01 2.15023942e-01 2.89772793e-01\n",
      "  1.72806858e-01]\n",
      " [6.90987491e-01 2.19957182e-01 2.15569409e-01 2.89973120e-01\n",
      "  1.77551143e-01]\n",
      " [6.72561158e-01 1.99752765e-01 2.07254278e-01 2.67466826e-01\n",
      "  1.58873699e-01]\n",
      " [6.54134825e-01 2.19177700e-01 2.15368105e-01 2.89321165e-01\n",
      "  1.76749635e-01]\n",
      " [6.35708492e-01 2.18055562e-01 2.14946018e-01 2.87868800e-01\n",
      "  1.75774468e-01]\n",
      " [6.17282159e-01 2.20204571e-01 2.15569409e-01 2.90500765e-01\n",
      "  1.77707088e-01]\n",
      " [5.98855826e-01 1.61236991e-01 1.82646555e-01 1.57752445e-01\n",
      "  1.45746694e-01]\n",
      " [5.80429492e-01 1.69953859e+00 3.71190623e+00 1.96201918e+00\n",
      "  1.27929701e+00]\n",
      " [5.62003159e-01 2.13525960e-01 2.14595360e-01 2.85101794e-01\n",
      "  1.70711904e-01]\n",
      " [5.43576826e-01 2.20238814e-01 2.15358365e-01 2.90582147e-01\n",
      "  1.77744840e-01]\n",
      " [5.25150493e-01 2.14229491e-01 2.14325873e-01 2.79894206e-01\n",
      "  1.73357749e-01]\n",
      " [5.06724160e-01 1.76533010e+00 8.22331665e-01 5.16697765e+00\n",
      "  5.84070437e-01]\n",
      " [4.88297827e-01 1.87120148e-01 2.12520636e-01 2.64110467e-01\n",
      "  1.42780245e-01]\n",
      " [4.69871494e-01 1.87589462e-01 1.91179224e-01 2.48752421e-01\n",
      "  1.50296990e-01]\n",
      " [4.51445161e-01 2.20191180e-01 2.15569409e-01 2.90497187e-01\n",
      "  1.77690535e-01]\n",
      " [4.33018828e-01 2.09044211e-01 2.12027118e-01 2.86860014e-01\n",
      "  1.64441561e-01]\n",
      " [4.14592495e-01 2.03076815e-01 2.14121323e-01 2.65233725e-01\n",
      "  1.63382178e-01]\n",
      " [3.96166162e-01 2.15523067e-01 2.15247973e-01 2.90144828e-01\n",
      "  1.71658031e-01]\n",
      " [3.77739828e-01 2.19414991e-01 2.14069374e-01 2.89750435e-01\n",
      "  1.77040327e-01]\n",
      " [3.59313495e-01 2.17840661e-01 2.13754431e-01 2.90454260e-01\n",
      "  1.74757193e-01]\n",
      " [3.40887162e-01 2.20285131e-01 2.15569409e-01 2.90838815e-01\n",
      "  1.77703894e-01]\n",
      " [3.22460829e-01 2.03737981e-01 2.01121017e-01 2.84008048e-01\n",
      "  1.59323240e-01]\n",
      " [3.04034496e-01 1.89711251e-01 1.64795486e-01 2.57555149e-01\n",
      "  1.52605389e-01]\n",
      " [2.85608163e-01 1.96651080e-01 2.13877811e-01 2.20779189e-01\n",
      "  1.69338306e-01]\n",
      " [2.67181830e-01 3.67219265e-01 5.70961053e-02 5.17122461e-01\n",
      "  3.12785477e-01]\n",
      " [2.48755497e-01 8.93136747e-02 7.55011742e-02 1.92114653e-01\n",
      "  4.90210233e-02]\n",
      " [2.30329164e-01 1.04810282e+00 9.30431614e-01 3.26241451e+00\n",
      "  2.43996402e-01]\n",
      " [2.11902831e-01 1.91423434e-01 1.96315709e-01 2.20616424e-01\n",
      "  1.64046035e-01]\n",
      " [1.93476497e-01 1.91705405e-03 3.56365987e-02 2.20507289e-01\n",
      "  7.09518316e-02]\n",
      " [1.75050164e-01 3.97762719e-02 1.80503648e-01 8.18234113e-02\n",
      "  6.30471109e-02]\n",
      " [1.56623831e-01 2.39095515e+00 4.87635574e+00 3.60364341e+00\n",
      "  1.55678755e+00]\n",
      " [1.38197498e-01 2.16337452e-01 2.14296652e-01 2.87665791e-01\n",
      "  1.73625499e-01]\n",
      " [1.19771165e-01 6.77768283e-02 1.36421440e-01 5.14623906e-02\n",
      "  6.07526510e-02]\n",
      " [1.01344832e-01 2.13968713e-01 2.14114829e-01 2.75102475e-01\n",
      "  1.74587598e-01]\n",
      " [8.29184989e-02 1.76327688e-01 2.11390739e-01 2.21049272e-01\n",
      "  1.42586257e-01]\n",
      " [6.44921658e-02 2.14114687e-01 2.11299828e-01 2.83031458e-01\n",
      "  1.72457796e-01]\n",
      " [4.60658327e-02 3.20104248e-02 1.63691563e-01 1.88854852e-01\n",
      "  8.90322103e-02]\n",
      " [2.76394996e-02 2.12140409e-01 2.12147250e-01 2.73625069e-01\n",
      "  1.72824573e-01]\n",
      " [9.21316655e-03 1.37946913e-01 2.07286746e-01 1.93800434e-01\n",
      "  1.01025780e-01]\n",
      " [9.21316655e-03 2.11188830e-01 2.14007684e-01 2.69134721e-01\n",
      "  1.72857388e-01]\n",
      " [2.76394996e-02 2.20189644e-01 2.15569409e-01 2.90578570e-01\n",
      "  1.77662076e-01]\n",
      " [4.60658327e-02 2.09769913e-01 2.13364812e-01 2.75000523e-01\n",
      "  1.69132993e-01]\n",
      " [6.44921658e-02 2.10009619e-01 2.11043328e-01 2.80471039e-01\n",
      "  1.67881364e-01]\n",
      " [8.29184989e-02 2.20415301e-01 2.15569409e-01 2.90926458e-01\n",
      "  1.77847642e-01]\n",
      " [1.01344832e-01 2.18747020e-01 2.13121299e-01 2.88302542e-01\n",
      "  1.76711593e-01]\n",
      " [1.19771165e-01 2.19773013e-01 2.15192777e-01 2.89971331e-01\n",
      "  1.77341763e-01]\n",
      " [1.38197498e-01 2.19278675e-01 2.15397327e-01 2.88417908e-01\n",
      "  1.77173912e-01]\n",
      " [1.56623831e-01 2.03655006e-01 2.08121182e-01 2.64409168e-01\n",
      "  1.64951506e-01]\n",
      " [1.75050164e-01 1.72525984e-01 2.00039822e-01 1.76877339e-01\n",
      "  1.52915538e-01]\n",
      " [1.93476497e-01 2.20307082e-01 2.15205764e-01 2.90926458e-01\n",
      "  1.77736999e-01]\n",
      " [2.11902831e-01 2.18067635e-01 2.15510966e-01 2.87370667e-01\n",
      "  1.75901664e-01]\n",
      " [2.30329164e-01 2.19950816e-01 2.15134334e-01 2.90386292e-01\n",
      "  1.77447469e-01]\n",
      " [2.48755497e-01 1.43709067e-01 1.97630675e-01 9.72798601e-02\n",
      "  1.40854595e-01]\n",
      " [2.67181830e-01 2.14388197e-01 2.15293428e-01 2.89041245e-01\n",
      "  1.70510946e-01]\n",
      " [2.85608163e-01 2.14615830e-01 2.10494614e-01 2.80104370e-01\n",
      "  1.74143285e-01]\n",
      " [3.04034496e-01 2.14570391e-01 2.14884328e-01 2.77720130e-01\n",
      "  1.74464759e-01]\n",
      " [3.22460829e-01 2.19929304e-01 2.15192777e-01 2.90651903e-01\n",
      "  1.77327534e-01]\n",
      " [3.40887162e-01 2.16382012e-01 2.13812874e-01 2.79907621e-01\n",
      "  1.76246951e-01]\n",
      " [3.59313495e-01 8.15744725e-02 2.33291815e-01 4.68140910e-01\n",
      "  6.49617260e-02]\n",
      " [3.77739828e-01 1.74458336e-01 1.94364364e-01 2.26806862e-01\n",
      "  1.39766462e-01]\n",
      " [3.96166162e-01 2.19203163e-01 2.14994720e-01 2.88410754e-01\n",
      "  1.77112346e-01]\n",
      " [4.14592495e-01 2.19717696e-01 2.15569409e-01 2.90319219e-01\n",
      "  1.77121930e-01]\n",
      " [4.33018828e-01 2.16620401e-01 2.14413538e-01 2.82366983e-01\n",
      "  1.75709999e-01]\n",
      " [4.51445161e-01 1.67645165e-01 1.87296016e-01 2.09869459e-01\n",
      "  1.36885101e-01]\n",
      " [4.69871494e-01 2.19474039e-01 2.15562915e-01 2.89927510e-01\n",
      "  1.76927361e-01]\n",
      " [4.88297827e-01 2.20197985e-01 2.15569409e-01 2.90520439e-01\n",
      "  1.77691987e-01]\n",
      " [5.06724160e-01 2.18602582e-01 2.15475251e-01 2.89742387e-01\n",
      "  1.75842422e-01]\n",
      " [5.25150493e-01 2.35102183e-01 5.77377843e-01 2.80470144e-01\n",
      "  3.50460676e-01]\n",
      " [5.43576826e-01 2.02549770e-01 2.12916749e-01 2.39800343e-01\n",
      "  1.71051383e-01]\n",
      " [5.62003159e-01 2.19693111e-01 2.14540164e-01 2.89136936e-01\n",
      "  1.77565372e-01]\n",
      " [5.80429492e-01 2.12207359e-01 2.09728362e-01 2.71780100e-01\n",
      "  1.73728592e-01]\n",
      " [5.98855826e-01 1.86559957e-01 2.00224892e-01 2.58572878e-01\n",
      "  1.44937055e-01]\n",
      " [6.17282159e-01 2.03651274e-01 2.03046387e-01 2.57632955e-01\n",
      "  1.67600836e-01]\n",
      " [6.35708492e-01 1.18646222e-01 1.81929006e-01 2.54862371e-01\n",
      "  5.79319841e-02]\n",
      " [6.54134825e-01 1.86602542e-01 2.13202470e-01 2.54929445e-01\n",
      "  1.45015754e-01]\n",
      " [6.72561158e-01 4.02772792e-02 1.34395419e-01 8.68558703e-03\n",
      "  6.81256594e-02]\n",
      " [6.90987491e-01 1.42736196e-01 1.83549174e-01 1.86150476e-01\n",
      "  1.11968968e-01]\n",
      " [7.09413824e-01 2.20340667e-01 2.15569409e-01 2.90761904e-01\n",
      "  1.77802340e-01]\n",
      " [7.27840157e-01 2.15313654e-01 2.13933007e-01 2.85134883e-01\n",
      "  1.73125428e-01]\n",
      " [7.46266490e-01 3.33863747e-01 1.67574927e-02 4.96233086e-01\n",
      "  2.79048988e-01]\n",
      " [7.64692823e-01 1.15257197e-01 1.16580064e-01 2.26197835e-01\n",
      "  6.86013243e-02]\n",
      " [7.83119156e-01 6.58075984e-02 1.12479318e-01 1.10545212e-01\n",
      "  4.11035250e-02]\n",
      " [8.01545490e-01 6.75644261e-02 5.49584825e-02 1.50189236e-01\n",
      "  1.43069207e-01]\n",
      " [8.19971823e-01 2.13494521e-02 2.13546634e-01 1.72753660e-01\n",
      "  4.69522175e-02]\n",
      " [8.38398156e-01 7.76051972e-02 9.11021911e-02 5.44368773e-02\n",
      "  7.68426199e-02]\n",
      " [8.56824489e-01 1.41691954e+00 1.41697694e-02 1.12783306e+00\n",
      "  1.50701424e+00]\n",
      " [8.75250822e-01 2.17696442e-01 2.15569409e-01 2.85586512e-01\n",
      "  1.75984719e-01]\n",
      " [8.93677155e-01 2.20243863e-01 2.15569409e-01 2.90600033e-01\n",
      "  1.77726835e-01]\n",
      " [9.12103488e-01 2.20205668e-01 2.15569409e-01 2.90304910e-01\n",
      "  1.77772138e-01]\n",
      " [9.30529821e-01 2.20245400e-01 2.15569409e-01 2.90587513e-01\n",
      "  1.77732934e-01]\n",
      " [9.48956154e-01 2.13392717e-01 2.07510778e-01 2.85518544e-01\n",
      "  1.71033959e-01]\n",
      " [9.67382487e-01 2.19230602e-01 2.15072644e-01 2.90765481e-01\n",
      "  1.76377051e-01]\n",
      " [9.85808821e-01 1.14440702e-01 1.83584889e-01 2.36489566e-01\n",
      "  9.10264077e-02]\n",
      " [1.00423515e+00 2.05380140e-01 2.13332343e-01 2.65395596e-01\n",
      "  1.66447362e-01]\n",
      " [1.02266149e+00 1.27328087e-01 1.86896656e-01 1.91109444e-01\n",
      "  8.96751586e-02]\n",
      " [1.04108782e+00 2.20260985e-01 2.15569409e-01 2.90639383e-01\n",
      "  1.77736709e-01]\n",
      " [1.05951415e+00 2.17835831e-01 2.13394033e-01 2.88005630e-01\n",
      "  1.75578157e-01]\n",
      " [1.07794049e+00 3.21445458e-02 2.12819344e-01 1.09704558e-01\n",
      "  1.21325327e-02]\n",
      " [1.09636682e+00 2.05084678e-01 2.12465440e-01 2.62489077e-01\n",
      "  1.67077823e-01]\n",
      " [1.11479315e+00 2.02173089e-01 2.01023612e-01 2.71963434e-01\n",
      "  1.61172805e-01]\n",
      " [1.13321949e+00 2.12333139e-01 2.10494614e-01 2.87611238e-01\n",
      "  1.68685775e-01]\n",
      " [1.15164582e+00 1.21779955e-01 1.89309050e-01 1.27998635e-01\n",
      "  1.02612822e-01]\n",
      " [1.17007215e+00 2.18823410e-01 2.15355118e-01 2.90861173e-01\n",
      "  1.75782019e-01]\n",
      " [1.18849848e+00 2.38971360e+00 4.01183537e+00 4.86950483e+00\n",
      "  1.22141889e+00]\n",
      " [1.20692482e+00 2.12791916e-01 2.14179766e-01 2.78992738e-01\n",
      "  1.71761704e-01]\n",
      " [1.22535115e+00 2.08349680e-01 2.06945829e-01 2.85680415e-01\n",
      "  1.64360249e-01]\n",
      " [1.24377748e+00 2.20275253e-01 2.15394080e-01 2.90597350e-01\n",
      "  1.77784916e-01]\n",
      " [1.26220382e+00 3.24697251e-02 2.04177492e-01 1.74453750e-01\n",
      "  8.13423989e-02]\n",
      " [1.28063015e+00 1.55575018e-01 6.62359310e-02 7.33315597e-01\n",
      "  3.82285531e-02]\n",
      " [1.29905648e+00 2.19882329e-01 2.15049916e-01 2.89993689e-01\n",
      "  1.77491901e-01]\n",
      " [1.31748282e+00 2.14306100e-01 2.14251196e-01 2.77279234e-01\n",
      "  1.74314912e-01]\n",
      " [1.33590915e+00 2.13144011e-01 2.13361565e-01 2.83766584e-01\n",
      "  1.70750527e-01]\n",
      " [1.35433548e+00 2.16518987e-01 2.13351824e-01 2.86112368e-01\n",
      "  1.74454595e-01]\n",
      " [1.37276182e+00 1.83101567e-01 2.06806215e-01 1.79877761e-01\n",
      "  1.65326995e-01]\n",
      " [1.39118815e+00 2.20200180e-01 2.15569409e-01 2.90377349e-01\n",
      "  1.77741355e-01]\n",
      " [1.40961448e+00 2.18464729e-01 2.14208987e-01 2.87491400e-01\n",
      "  1.76504246e-01]\n",
      " [1.42804081e+00 2.18863580e-01 2.14098595e-01 2.87854491e-01\n",
      "  1.76923876e-01]\n",
      " [1.44646715e+00 2.08916895e-01 2.08497814e-01 2.71767580e-01\n",
      "  1.69489605e-01]\n",
      " [1.46489348e+00 1.06783376e+00 2.79555891e-01 2.29881765e+00\n",
      "  6.41213553e-01]\n",
      " [1.48331981e+00 1.23133668e+01 1.02456153e+01 7.24695411e+00\n",
      "  1.30203355e+01]\n",
      " [1.50174615e+00 2.19061140e-01 2.15569409e-01 2.88967911e-01\n",
      "  1.76692136e-01]\n",
      " [1.52017248e+00 9.52758029e-02 1.65298744e-01 1.84648924e-01\n",
      "  5.13012535e-02]\n",
      " [1.53859881e+00 5.92589378e-02 1.95003989e-01 8.10418098e-02\n",
      "  3.46391942e-02]\n",
      " [1.55702515e+00 1.78822067e+00 4.09948679e+00 2.51729591e-01\n",
      "  2.08080084e+00]\n",
      " [1.57545148e+00 2.12339066e-01 2.13036882e-01 2.71427740e-01\n",
      "  1.73721332e-01]\n",
      " [1.59387781e+00 1.97533074e-01 2.14124570e-01 2.35645363e-01\n",
      "  1.65655729e-01]\n",
      " [1.61230415e+00 2.15233972e-01 2.13822615e-01 2.82891051e-01\n",
      "  1.73758503e-01]\n",
      " [1.63073048e+00 2.16350842e-01 2.15569409e-01 2.79914776e-01\n",
      "  1.76046284e-01]\n",
      " [1.64915681e+00 2.16035625e-01 2.15202517e-01 2.83058288e-01\n",
      "  1.74641323e-01]\n",
      " [1.66758315e+00 2.20352082e-01 2.15566162e-01 2.90760115e-01\n",
      "  1.77818312e-01]\n",
      " [1.68600948e+00 2.19827671e-01 2.14075867e-01 2.90844181e-01\n",
      "  1.77230540e-01]\n",
      " [1.70443581e+00 2.17064252e-01 2.14871341e-01 2.86203588e-01\n",
      "  1.75010423e-01]\n",
      " [1.72286214e+00 2.20033133e-01 2.14923290e-01 2.90592879e-01\n",
      "  1.77508163e-01]]\n",
      "(array([ 36,  62,  66,  81,  85,  85, 158, 158, 174, 174, 174, 174, 178],\n",
      "      dtype=int64), array([3, 2, 3, 3, 2, 3, 2, 3, 1, 2, 3, 4, 2], dtype=int64))\n",
      "With out removing outliers:: (188, 5)\n",
      "After removing outliers:: (180, 5)\n"
     ]
    }
   ],
   "source": [
    "from scipy import stats\n",
    "z=np.abs(stats.zscore(df1))\n",
    "print(z)\n",
    "threshold=3\n",
    "print(np.where(z>threshold))\n",
    "#removing outliers\n",
    "df2=df1[(z<3).all(axis=1)]\n",
    "print(\"With out removing outliers::\",df1.shape)\n",
    "print(\"After removing outliers::\",df2.shape)"
   ]
  },
  {
   "cell_type": "markdown",
   "metadata": {},
   "source": [
    "Observation::\n",
    "        \n",
    "        \n",
    "only 8 rows having outliers are removed which is very less percentage"
   ]
  },
  {
   "cell_type": "code",
   "execution_count": 67,
   "metadata": {},
   "outputs": [
    {
     "data": {
      "text/plain": [
       "(180, 4)"
      ]
     },
     "execution_count": 67,
     "metadata": {},
     "output_type": "execute_result"
    }
   ],
   "source": [
    "x=df2.drop(['Deaths'],axis=1)\n",
    "x.shape"
   ]
  },
  {
   "cell_type": "code",
   "execution_count": 68,
   "metadata": {},
   "outputs": [
    {
     "data": {
      "text/plain": [
       "(180, 1)"
      ]
     },
     "execution_count": 68,
     "metadata": {},
     "output_type": "execute_result"
    }
   ],
   "source": [
    "y=df2['Deaths']\n",
    "y=y.values.reshape(-1,1)\n",
    "y.shape"
   ]
  },
  {
   "cell_type": "markdown",
   "metadata": {},
   "source": [
    "Removing Skewness before modelling data"
   ]
  },
  {
   "cell_type": "code",
   "execution_count": 69,
   "metadata": {},
   "outputs": [],
   "source": [
    "from sklearn.preprocessing import power_transform\n",
    "x=power_transform(df2,method='yeo-johnson')"
   ]
  },
  {
   "cell_type": "markdown",
   "metadata": {},
   "source": [
    "Checking for best random sate with highest accuracy for different models"
   ]
  },
  {
   "cell_type": "code",
   "execution_count": 70,
   "metadata": {},
   "outputs": [],
   "source": [
    "from sklearn.model_selection import train_test_split\n",
    "from sklearn.metrics import r2_score\n",
    "from sklearn.metrics import mean_squared_error\n",
    "from sklearn.metrics import mean_absolute_error\n",
    "from sklearn.ensemble import RandomForestRegressor\n",
    "from sklearn.ensemble import AdaBoostRegressor\n",
    "from sklearn.linear_model import SGDRegressor\n",
    "from sklearn.linear_model import Lasso\n",
    "from sklearn.linear_model import Ridge\n",
    "from sklearn.linear_model import LinearRegression\n",
    "\n",
    "import warnings\n",
    "warnings.simplefilter('ignore')\n"
   ]
  },
  {
   "cell_type": "code",
   "execution_count": 72,
   "metadata": {},
   "outputs": [
    {
     "name": "stdout",
     "output_type": "stream",
     "text": [
      "Acuuracy of  0.5013850529864248 for Model:: LinearRegression() found in Random state: 67\n",
      "Acuuracy of  0.999449211078271 for Model:: RandomForestRegressor() found in Random state: 55\n",
      "Acuuracy of  0.999449211078271 for Model:: AdaBoostRegressor() found in Random state: 55\n",
      "Acuuracy of  0.999449211078271 for Model:: SGDRegressor() found in Random state: 55\n",
      "Acuuracy of  0.999449211078271 for Model:: Lasso() found in Random state: 55\n",
      "Acuuracy of  0.999449211078271 for Model:: Ridge() found in Random state: 55\n"
     ]
    }
   ],
   "source": [
    "\n",
    "best_Randstate=0\n",
    "accuracy=0\n",
    "model=[LinearRegression(),RandomForestRegressor(),AdaBoostRegressor(),SGDRegressor(),Lasso(),Ridge()]\n",
    "for m in model:\n",
    "            for i in range(20,100):\n",
    "                                    x_train,x_test,y_train,y_test=train_test_split(x,y,test_size=.20,random_state=i)\n",
    "                                    m.fit(x_train,y_train)\n",
    "                                    predicted_y=m.predict(x_test)\n",
    "                                    accu_temp=r2_score(y_test,predicted_y)\n",
    "                                    if(accu_temp>accuracy):\n",
    "                                                accuracy=accu_temp\n",
    "                                                best_Randstate=i\n",
    "            print(\"Acuuracy of \",accuracy,\"for Model::\",m,\"found in Random state:\",best_Randstate)"
   ]
  },
  {
   "cell_type": "markdown",
   "metadata": {},
   "source": [
    "Observation::\n",
    "        \n",
    "Except Linear model,all the models have high accuracy(99.9%).choosing adaboost regressor "
   ]
  },
  {
   "cell_type": "markdown",
   "metadata": {},
   "source": [
    "Splitting data into training and testing "
   ]
  },
  {
   "cell_type": "code",
   "execution_count": 74,
   "metadata": {},
   "outputs": [],
   "source": [
    "x_train,x_test,y_train,y_test=train_test_split(x,y,test_size=.20,random_state=55)"
   ]
  },
  {
   "cell_type": "markdown",
   "metadata": {},
   "source": [
    "# DATA MODELLING"
   ]
  },
  {
   "cell_type": "markdown",
   "metadata": {},
   "source": [
    "ADA Regressor"
   ]
  },
  {
   "cell_type": "code",
   "execution_count": 76,
   "metadata": {},
   "outputs": [
    {
     "name": "stdout",
     "output_type": "stream",
     "text": [
      "Accuracy :: 80.40703131565226\n",
      "mean absolute error: 2887.622090734442\n",
      "mean squared error:: 9059502.500234308\n"
     ]
    }
   ],
   "source": [
    "ab=AdaBoostRegressor()\n",
    "ab.fit(x_train,y_train)\n",
    "y_pred=ab.predict(x_test)\n",
    "print(\"Accuracy ::\",r2_score(y_test,y_pred)*100)\n",
    "print(\"mean absolute error:\",mean_absolute_error(y_test,y_pred))\n",
    "print(\"mean squared error::\",mean_squared_error(y_test,y_pred))\n"
   ]
  },
  {
   "cell_type": "markdown",
   "metadata": {},
   "source": [
    "Random forest regressor"
   ]
  },
  {
   "cell_type": "code",
   "execution_count": 77,
   "metadata": {},
   "outputs": [
    {
     "name": "stdout",
     "output_type": "stream",
     "text": [
      "Accuracy of Random Forest Regression model:: 0.9987273889475007\n",
      "mean absolute error: 98.75694444444449\n",
      "mean squared error:: 58843.67600277775\n"
     ]
    }
   ],
   "source": [
    "rf=RandomForestRegressor()\n",
    "rf.fit(x_train,y_train)\n",
    "y_pred=rf.predict(x_test)\n",
    "accuracy=r2_score(y_test,y_pred)\n",
    "print(\"Accuracy of Random Forest Regression model::\",accuracy)\n",
    "print(\"mean absolute error:\",mean_absolute_error(y_test,y_pred))\n",
    "print(\"mean squared error::\",mean_squared_error(y_test,y_pred))"
   ]
  },
  {
   "cell_type": "code",
   "execution_count": 78,
   "metadata": {},
   "outputs": [
    {
     "name": "stdout",
     "output_type": "stream",
     "text": [
      "Training score: 0.9871091097882488\n"
     ]
    }
   ],
   "source": [
    "print(\"Training score:\",rf.score(x_train,y_train))"
   ]
  },
  {
   "cell_type": "code",
   "execution_count": 79,
   "metadata": {},
   "outputs": [
    {
     "name": "stdout",
     "output_type": "stream",
     "text": [
      "Testing score: 0.9987273889475007\n"
     ]
    }
   ],
   "source": [
    "print(\"Testing score:\",rf.score(x_test,y_test))"
   ]
  },
  {
   "cell_type": "markdown",
   "metadata": {},
   "source": [
    "# Summary:\n",
    "    \n",
    "There is not a much difference between training and testing score,indicates the model doesnt over fit or underfit.\n",
    "\n",
    "finalizing random forest regressor as it has very good accuracy and no need of hyper parameter tuning since accuracy is very high(99.8%)\n",
    "\n",
    "This model predicts deaths with 99.8% accuracy .\n"
   ]
  },
  {
   "cell_type": "markdown",
   "metadata": {},
   "source": [
    "# Saving the model:"
   ]
  },
  {
   "cell_type": "code",
   "execution_count": 81,
   "metadata": {},
   "outputs": [],
   "source": [
    "import joblib"
   ]
  },
  {
   "cell_type": "code",
   "execution_count": 82,
   "metadata": {},
   "outputs": [
    {
     "data": {
      "text/plain": [
       "['CovidDeathPrediction.pkl']"
      ]
     },
     "execution_count": 82,
     "metadata": {},
     "output_type": "execute_result"
    }
   ],
   "source": [
    "joblib.dump(rf,'CovidDeathPrediction.pkl')"
   ]
  },
  {
   "cell_type": "code",
   "execution_count": null,
   "metadata": {},
   "outputs": [],
   "source": []
  }
 ],
 "metadata": {
  "kernelspec": {
   "display_name": "Python 3",
   "language": "python",
   "name": "python3"
  },
  "language_info": {
   "codemirror_mode": {
    "name": "ipython",
    "version": 3
   },
   "file_extension": ".py",
   "mimetype": "text/x-python",
   "name": "python",
   "nbconvert_exporter": "python",
   "pygments_lexer": "ipython3",
   "version": "3.7.6"
  }
 },
 "nbformat": 4,
 "nbformat_minor": 4
}
