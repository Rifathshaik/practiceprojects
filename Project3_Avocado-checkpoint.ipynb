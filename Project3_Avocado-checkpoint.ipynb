{
 "cells": [
  {
   "cell_type": "code",
   "execution_count": 80,
   "metadata": {},
   "outputs": [],
   "source": [
    "import pandas as pd\n",
    "import numpy as np"
   ]
  },
  {
   "cell_type": "code",
   "execution_count": 81,
   "metadata": {},
   "outputs": [],
   "source": [
    "#Loading the dataset into pandas dataframe\n",
    "df=pd.read_csv(\"Avacado.csv\")\n"
   ]
  },
  {
   "cell_type": "code",
   "execution_count": 82,
   "metadata": {},
   "outputs": [
    {
     "data": {
      "text/html": [
       "<div>\n",
       "<style scoped>\n",
       "    .dataframe tbody tr th:only-of-type {\n",
       "        vertical-align: middle;\n",
       "    }\n",
       "\n",
       "    .dataframe tbody tr th {\n",
       "        vertical-align: top;\n",
       "    }\n",
       "\n",
       "    .dataframe thead th {\n",
       "        text-align: right;\n",
       "    }\n",
       "</style>\n",
       "<table border=\"1\" class=\"dataframe\">\n",
       "  <thead>\n",
       "    <tr style=\"text-align: right;\">\n",
       "      <th></th>\n",
       "      <th>Unnamed: 0</th>\n",
       "      <th>Date</th>\n",
       "      <th>AveragePrice</th>\n",
       "      <th>Total Volume</th>\n",
       "      <th>4046</th>\n",
       "      <th>4225</th>\n",
       "      <th>4770</th>\n",
       "      <th>Total Bags</th>\n",
       "      <th>Small Bags</th>\n",
       "      <th>Large Bags</th>\n",
       "      <th>XLarge Bags</th>\n",
       "      <th>type</th>\n",
       "      <th>year</th>\n",
       "      <th>region</th>\n",
       "    </tr>\n",
       "  </thead>\n",
       "  <tbody>\n",
       "    <tr>\n",
       "      <th>0</th>\n",
       "      <td>0.0</td>\n",
       "      <td>27-12-2015</td>\n",
       "      <td>1.33</td>\n",
       "      <td>64236.62</td>\n",
       "      <td>1036.74</td>\n",
       "      <td>54454.85</td>\n",
       "      <td>48.16</td>\n",
       "      <td>8696.87</td>\n",
       "      <td>8603.62</td>\n",
       "      <td>93.25</td>\n",
       "      <td>0.0</td>\n",
       "      <td>conventional</td>\n",
       "      <td>2015.0</td>\n",
       "      <td>Albany</td>\n",
       "    </tr>\n",
       "    <tr>\n",
       "      <th>1</th>\n",
       "      <td>1.0</td>\n",
       "      <td>20-12-2015</td>\n",
       "      <td>1.35</td>\n",
       "      <td>54876.98</td>\n",
       "      <td>674.28</td>\n",
       "      <td>44638.81</td>\n",
       "      <td>58.33</td>\n",
       "      <td>9505.56</td>\n",
       "      <td>9408.07</td>\n",
       "      <td>97.49</td>\n",
       "      <td>0.0</td>\n",
       "      <td>conventional</td>\n",
       "      <td>2015.0</td>\n",
       "      <td>Albany</td>\n",
       "    </tr>\n",
       "    <tr>\n",
       "      <th>2</th>\n",
       "      <td>2.0</td>\n",
       "      <td>13-12-2015</td>\n",
       "      <td>0.93</td>\n",
       "      <td>118220.22</td>\n",
       "      <td>794.70</td>\n",
       "      <td>109149.67</td>\n",
       "      <td>130.50</td>\n",
       "      <td>8145.35</td>\n",
       "      <td>8042.21</td>\n",
       "      <td>103.14</td>\n",
       "      <td>0.0</td>\n",
       "      <td>conventional</td>\n",
       "      <td>2015.0</td>\n",
       "      <td>Albany</td>\n",
       "    </tr>\n",
       "    <tr>\n",
       "      <th>3</th>\n",
       "      <td>3.0</td>\n",
       "      <td>06-12-2015</td>\n",
       "      <td>1.08</td>\n",
       "      <td>78992.15</td>\n",
       "      <td>1132.00</td>\n",
       "      <td>71976.41</td>\n",
       "      <td>72.58</td>\n",
       "      <td>5811.16</td>\n",
       "      <td>5677.40</td>\n",
       "      <td>133.76</td>\n",
       "      <td>0.0</td>\n",
       "      <td>conventional</td>\n",
       "      <td>2015.0</td>\n",
       "      <td>Albany</td>\n",
       "    </tr>\n",
       "    <tr>\n",
       "      <th>4</th>\n",
       "      <td>4.0</td>\n",
       "      <td>29-11-2015</td>\n",
       "      <td>1.28</td>\n",
       "      <td>51039.60</td>\n",
       "      <td>941.48</td>\n",
       "      <td>43838.39</td>\n",
       "      <td>75.78</td>\n",
       "      <td>6183.95</td>\n",
       "      <td>5986.26</td>\n",
       "      <td>197.69</td>\n",
       "      <td>0.0</td>\n",
       "      <td>conventional</td>\n",
       "      <td>2015.0</td>\n",
       "      <td>Albany</td>\n",
       "    </tr>\n",
       "  </tbody>\n",
       "</table>\n",
       "</div>"
      ],
      "text/plain": [
       "   Unnamed: 0        Date  AveragePrice  Total Volume     4046       4225  \\\n",
       "0         0.0  27-12-2015          1.33      64236.62  1036.74   54454.85   \n",
       "1         1.0  20-12-2015          1.35      54876.98   674.28   44638.81   \n",
       "2         2.0  13-12-2015          0.93     118220.22   794.70  109149.67   \n",
       "3         3.0  06-12-2015          1.08      78992.15  1132.00   71976.41   \n",
       "4         4.0  29-11-2015          1.28      51039.60   941.48   43838.39   \n",
       "\n",
       "     4770  Total Bags  Small Bags  Large Bags  XLarge Bags          type  \\\n",
       "0   48.16     8696.87     8603.62       93.25          0.0  conventional   \n",
       "1   58.33     9505.56     9408.07       97.49          0.0  conventional   \n",
       "2  130.50     8145.35     8042.21      103.14          0.0  conventional   \n",
       "3   72.58     5811.16     5677.40      133.76          0.0  conventional   \n",
       "4   75.78     6183.95     5986.26      197.69          0.0  conventional   \n",
       "\n",
       "     year  region  \n",
       "0  2015.0  Albany  \n",
       "1  2015.0  Albany  \n",
       "2  2015.0  Albany  \n",
       "3  2015.0  Albany  \n",
       "4  2015.0  Albany  "
      ]
     },
     "execution_count": 82,
     "metadata": {},
     "output_type": "execute_result"
    }
   ],
   "source": [
    "#checking 1st 5 rows of the data set\n",
    "df.head()"
   ]
  },
  {
   "cell_type": "code",
   "execution_count": 83,
   "metadata": {},
   "outputs": [
    {
     "data": {
      "text/plain": [
       "(16468, 14)"
      ]
     },
     "execution_count": 83,
     "metadata": {},
     "output_type": "execute_result"
    }
   ],
   "source": [
    "#checking no.of rows and columns for the data set\n",
    "\n",
    "df.shape"
   ]
  },
  {
   "cell_type": "markdown",
   "metadata": {},
   "source": [
    "No.of rows=16468\n",
    "\n",
    "No.of columns= 14"
   ]
  },
  {
   "cell_type": "markdown",
   "metadata": {},
   "source": [
    "Here average price is the target column.\n",
    "\n",
    "Checking  data types of each column:"
   ]
  },
  {
   "cell_type": "code",
   "execution_count": 84,
   "metadata": {},
   "outputs": [
    {
     "name": "stdout",
     "output_type": "stream",
     "text": [
      "<class 'pandas.core.frame.DataFrame'>\n",
      "RangeIndex: 16468 entries, 0 to 16467\n",
      "Data columns (total 14 columns):\n",
      " #   Column        Non-Null Count  Dtype  \n",
      "---  ------        --------------  -----  \n",
      " 0   Unnamed: 0    1517 non-null   float64\n",
      " 1   Date          1517 non-null   object \n",
      " 2   AveragePrice  1517 non-null   float64\n",
      " 3   Total Volume  1517 non-null   float64\n",
      " 4   4046          1517 non-null   float64\n",
      " 5   4225          1517 non-null   float64\n",
      " 6   4770          1517 non-null   float64\n",
      " 7   Total Bags    1517 non-null   float64\n",
      " 8   Small Bags    1517 non-null   float64\n",
      " 9   Large Bags    1517 non-null   float64\n",
      " 10  XLarge Bags   1517 non-null   float64\n",
      " 11  type          1517 non-null   object \n",
      " 12  year          1517 non-null   float64\n",
      " 13  region        1517 non-null   object \n",
      "dtypes: float64(11), object(3)\n",
      "memory usage: 1.8+ MB\n"
     ]
    }
   ],
   "source": [
    "df.info()"
   ]
  },
  {
   "cell_type": "code",
   "execution_count": 85,
   "metadata": {},
   "outputs": [
    {
     "data": {
      "text/plain": [
       "Unnamed: 0      14951\n",
       "Date            14951\n",
       "AveragePrice    14951\n",
       "Total Volume    14951\n",
       "4046            14951\n",
       "4225            14951\n",
       "4770            14951\n",
       "Total Bags      14951\n",
       "Small Bags      14951\n",
       "Large Bags      14951\n",
       "XLarge Bags     14951\n",
       "type            14951\n",
       "year            14951\n",
       "region          14951\n",
       "dtype: int64"
      ]
     },
     "execution_count": 85,
     "metadata": {},
     "output_type": "execute_result"
    }
   ],
   "source": [
    "#checking for nulls\n",
    "\n",
    "df.isnull().sum()"
   ]
  },
  {
   "cell_type": "markdown",
   "metadata": {},
   "source": [
    "Out of 16468 rows there are \n",
    "\n",
    "1)14951 rows with null values\n",
    "\n",
    "2)1517(16468-14951) rows with non null values"
   ]
  },
  {
   "cell_type": "code",
   "execution_count": 86,
   "metadata": {},
   "outputs": [],
   "source": [
    "# dropping the empty rows which records null values for every column\n",
    "\n",
    "df.dropna(axis=0,how='all',inplace=True)"
   ]
  },
  {
   "cell_type": "code",
   "execution_count": 87,
   "metadata": {},
   "outputs": [
    {
     "data": {
      "text/plain": [
       "(1517, 14)"
      ]
     },
     "execution_count": 87,
     "metadata": {},
     "output_type": "execute_result"
    }
   ],
   "source": [
    "#lets check the dataframe  after treating nulls\n",
    "\n",
    "df.shape"
   ]
  },
  {
   "cell_type": "code",
   "execution_count": 88,
   "metadata": {},
   "outputs": [
    {
     "data": {
      "text/plain": [
       "Unnamed: 0      0\n",
       "Date            0\n",
       "AveragePrice    0\n",
       "Total Volume    0\n",
       "4046            0\n",
       "4225            0\n",
       "4770            0\n",
       "Total Bags      0\n",
       "Small Bags      0\n",
       "Large Bags      0\n",
       "XLarge Bags     0\n",
       "type            0\n",
       "year            0\n",
       "region          0\n",
       "dtype: int64"
      ]
     },
     "execution_count": 88,
     "metadata": {},
     "output_type": "execute_result"
    }
   ],
   "source": [
    "df.isnull().sum()"
   ]
  },
  {
   "cell_type": "code",
   "execution_count": 89,
   "metadata": {},
   "outputs": [
    {
     "data": {
      "text/plain": [
       "104"
      ]
     },
     "execution_count": 89,
     "metadata": {},
     "output_type": "execute_result"
    }
   ],
   "source": [
    "df['Date'].nunique()"
   ]
  },
  {
   "cell_type": "code",
   "execution_count": 90,
   "metadata": {},
   "outputs": [
    {
     "data": {
      "text/plain": [
       "05-04-2015    34\n",
       "12-04-2015    34\n",
       "19-04-2015    33\n",
       "29-03-2015    32\n",
       "10-05-2015    32\n",
       "              ..\n",
       "19-06-2016     3\n",
       "17-07-2016     3\n",
       "07-08-2016     3\n",
       "24-07-2016     3\n",
       "11-09-2016     2\n",
       "Name: Date, Length: 104, dtype: int64"
      ]
     },
     "execution_count": 90,
     "metadata": {},
     "output_type": "execute_result"
    }
   ],
   "source": [
    "df['Date'].value_counts()"
   ]
  },
  {
   "cell_type": "code",
   "execution_count": 91,
   "metadata": {},
   "outputs": [
    {
     "data": {
      "text/plain": [
       "2015.0    1270\n",
       "2016.0     247\n",
       "Name: year, dtype: int64"
      ]
     },
     "execution_count": 91,
     "metadata": {},
     "output_type": "execute_result"
    }
   ],
   "source": [
    "df['year'].value_counts()"
   ]
  },
  {
   "cell_type": "markdown",
   "metadata": {},
   "source": [
    "OSBERVATION:\n",
    "\n",
    "This data contains sales information of two years(2015 & 2016)"
   ]
  },
  {
   "cell_type": "code",
   "execution_count": 92,
   "metadata": {},
   "outputs": [
    {
     "data": {
      "text/plain": [
       "conventional    1517\n",
       "Name: type, dtype: int64"
      ]
     },
     "execution_count": 92,
     "metadata": {},
     "output_type": "execute_result"
    }
   ],
   "source": [
    "df['type'].value_counts()"
   ]
  },
  {
   "cell_type": "markdown",
   "metadata": {},
   "source": [
    "OBSERVATION::\n",
    "\n",
    "This data contains information about only conventional type of avocados.\n",
    "\n",
    "As there is only one type of avocados, this column wont affect much on prices.\n",
    "\n",
    "Any inference we draw using this data set is always going to be about Conventional avocados.\n",
    "\n",
    "Hence,dropping this column."
   ]
  },
  {
   "cell_type": "code",
   "execution_count": 93,
   "metadata": {},
   "outputs": [],
   "source": [
    "df.drop(['type'],axis=1,inplace=True)"
   ]
  },
  {
   "cell_type": "markdown",
   "metadata": {},
   "source": [
    "we can observe that Toal bags columns is the sum of small bags and large bags.\n",
    "\n",
    "Hence dropping the Total bags columns"
   ]
  },
  {
   "cell_type": "code",
   "execution_count": 94,
   "metadata": {},
   "outputs": [],
   "source": [
    "df.drop(['Total Bags'],axis=1,inplace=True)\n"
   ]
  },
  {
   "cell_type": "code",
   "execution_count": 95,
   "metadata": {},
   "outputs": [
    {
     "data": {
      "text/plain": [
       "California             76\n",
       "Albany                 67\n",
       "BaltimoreWashington    65\n",
       "Boise                  65\n",
       "Boston                 62\n",
       "Atlanta                54\n",
       "PhoenixTucson          52\n",
       "BuffaloRochester       51\n",
       "Spokane                49\n",
       "Columbus               47\n",
       "NewYork                44\n",
       "Jacksonville           41\n",
       "Detroit                40\n",
       "SouthCentral           39\n",
       "SanDiego               38\n",
       "West                   36\n",
       "Tampa                  34\n",
       "Louisville             34\n",
       "Charlotte              31\n",
       "Portland               30\n",
       "NorthernNewEngland     29\n",
       "Houston                29\n",
       "WestTexNewMexico       27\n",
       "Nashville              25\n",
       "TotalUS                25\n",
       "Denver                 24\n",
       "SouthCarolina          24\n",
       "Chicago                23\n",
       "GrandRapids            23\n",
       "Pittsburgh             22\n",
       "RichmondNorfolk        21\n",
       "Orlando                21\n",
       "Syracuse               19\n",
       "HarrisburgScranton     19\n",
       "GreatLakes             18\n",
       "Midsouth               18\n",
       "DallasFtWorth          17\n",
       "MiamiFtLauderdale      17\n",
       "Roanoke                17\n",
       "Indianapolis           16\n",
       "StLouis                16\n",
       "RaleighGreensboro      16\n",
       "SanFrancisco           15\n",
       "HartfordSpringfield    13\n",
       "Philadelphia           13\n",
       "Plains                 12\n",
       "Northeast              12\n",
       "LasVegas               10\n",
       "Southeast               9\n",
       "Seattle                 9\n",
       "LosAngeles              3\n",
       "Name: region, dtype: int64"
      ]
     },
     "execution_count": 95,
     "metadata": {},
     "output_type": "execute_result"
    }
   ],
   "source": [
    "#checking different regions and how many rows they have.\n",
    "df['region'].value_counts()"
   ]
  },
  {
   "cell_type": "markdown",
   "metadata": {},
   "source": [
    "As date column is of object type, converting it to date type for further data manipulations"
   ]
  },
  {
   "cell_type": "code",
   "execution_count": 96,
   "metadata": {},
   "outputs": [],
   "source": [
    "df[\"Date\"]=pd.to_datetime(df['Date'])"
   ]
  },
  {
   "cell_type": "code",
   "execution_count": 97,
   "metadata": {},
   "outputs": [
    {
     "data": {
      "text/plain": [
       "Date\n",
       "September,2016     15.17\n",
       "August,2016        18.21\n",
       "May,2016           18.85\n",
       "December,2016      19.41\n",
       "June,2016          21.58\n",
       "January,2016       22.21\n",
       "July,2016          22.32\n",
       "April,2016         22.70\n",
       "February,2016      23.61\n",
       "October,2016       31.53\n",
       "March,2016         33.18\n",
       "November,2016      35.65\n",
       "July,2015          72.13\n",
       "October,2015       76.31\n",
       "September,2015     82.58\n",
       "February,2015      86.93\n",
       "April,2015        110.17\n",
       "November,2015     111.38\n",
       "June,2015         118.77\n",
       "January,2015      123.71\n",
       "December,2015     126.53\n",
       "March,2015        135.40\n",
       "August,2015       149.93\n",
       "May,2015          152.50\n",
       "Name: AveragePrice, dtype: float64"
      ]
     },
     "execution_count": 97,
     "metadata": {},
     "output_type": "execute_result"
    }
   ],
   "source": [
    "#Checking month wise  sales in each year\n",
    "df.groupby(df['Date'].dt.strftime('%B,%Y'))['AveragePrice'].sum().sort_values()"
   ]
  },
  {
   "cell_type": "markdown",
   "metadata": {},
   "source": [
    "OBSERVATION::\n",
    "        \n",
    "        1)Average prices are higher in 2015 compared to 2016 [i.e- Avocado prices reduced in 2016]\n",
    "        \n",
    "        2)In 2016,prices are lower in september month,maximum in November\n",
    "        \n",
    "        3)In 2015,prices lower in july,maximum in May"
   ]
  },
  {
   "cell_type": "code",
   "execution_count": 98,
   "metadata": {},
   "outputs": [
    {
     "data": {
      "text/plain": [
       "region\n",
       "LosAngeles              2.59\n",
       "Seattle                 9.47\n",
       "Southeast               9.82\n",
       "LasVegas               10.41\n",
       "Plains                 12.62\n",
       "DallasFtWorth          12.85\n",
       "Northeast              14.84\n",
       "HartfordSpringfield    15.72\n",
       "Philadelphia           16.82\n",
       "SanFrancisco           17.26\n",
       "Indianapolis           18.02\n",
       "Roanoke                18.64\n",
       "RaleighGreensboro      18.66\n",
       "Midsouth               19.46\n",
       "GreatLakes             19.93\n",
       "MiamiFtLauderdale      20.00\n",
       "StLouis                20.16\n",
       "WestTexNewMexico       20.45\n",
       "RichmondNorfolk        21.10\n",
       "HarrisburgScranton     21.99\n",
       "Houston                22.64\n",
       "Orlando                23.80\n",
       "TotalUS                25.29\n",
       "Syracuse               25.60\n",
       "SouthCarolina          25.71\n",
       "Nashville              25.71\n",
       "Pittsburgh             25.93\n",
       "Denver                 25.94\n",
       "GrandRapids            26.15\n",
       "Chicago                27.94\n",
       "Portland               31.31\n",
       "SouthCentral           31.93\n",
       "NorthernNewEngland     32.22\n",
       "West                   33.87\n",
       "PhoenixTucson          34.31\n",
       "Louisville             35.46\n",
       "Tampa                  36.34\n",
       "SanDiego               37.75\n",
       "Charlotte              40.66\n",
       "Detroit                41.65\n",
       "Jacksonville           45.66\n",
       "Columbus               47.59\n",
       "Spokane                53.71\n",
       "Atlanta                54.65\n",
       "NewYork                54.94\n",
       "Boise                  63.37\n",
       "BuffaloRochester       66.38\n",
       "Boston                 74.74\n",
       "BaltimoreWashington    75.46\n",
       "California             80.25\n",
       "Albany                 82.99\n",
       "Name: AveragePrice, dtype: float64"
      ]
     },
     "execution_count": 98,
     "metadata": {},
     "output_type": "execute_result"
    }
   ],
   "source": [
    "df.groupby(df['region'])['AveragePrice'].sum().sort_values()"
   ]
  },
  {
   "cell_type": "markdown",
   "metadata": {},
   "source": [
    "# OBSERVATION:\n",
    "    \n",
    "    Regions with lower prices:\n",
    "        1)LosAngeles              \n",
    "        2)Seattle\n",
    "        3)South east\n",
    "    \n",
    "    Regions with higher prices:\n",
    "        1)Albany\n",
    "        2)California\n",
    "        3)BaltimoreWashington    "
   ]
  },
  {
   "cell_type": "code",
   "execution_count": 99,
   "metadata": {},
   "outputs": [
    {
     "data": {
      "text/html": [
       "<div>\n",
       "<style scoped>\n",
       "    .dataframe tbody tr th:only-of-type {\n",
       "        vertical-align: middle;\n",
       "    }\n",
       "\n",
       "    .dataframe tbody tr th {\n",
       "        vertical-align: top;\n",
       "    }\n",
       "\n",
       "    .dataframe thead th {\n",
       "        text-align: right;\n",
       "    }\n",
       "</style>\n",
       "<table border=\"1\" class=\"dataframe\">\n",
       "  <thead>\n",
       "    <tr style=\"text-align: right;\">\n",
       "      <th></th>\n",
       "      <th>Unnamed: 0</th>\n",
       "      <th>Date</th>\n",
       "      <th>AveragePrice</th>\n",
       "      <th>Total Volume</th>\n",
       "      <th>4046</th>\n",
       "      <th>4225</th>\n",
       "      <th>4770</th>\n",
       "      <th>Small Bags</th>\n",
       "      <th>Large Bags</th>\n",
       "      <th>XLarge Bags</th>\n",
       "      <th>year</th>\n",
       "      <th>region</th>\n",
       "    </tr>\n",
       "  </thead>\n",
       "  <tbody>\n",
       "    <tr>\n",
       "      <th>0</th>\n",
       "      <td>0.0</td>\n",
       "      <td>2015-12-27</td>\n",
       "      <td>1.33</td>\n",
       "      <td>64236.62</td>\n",
       "      <td>1036.74</td>\n",
       "      <td>54454.85</td>\n",
       "      <td>48.16</td>\n",
       "      <td>8603.62</td>\n",
       "      <td>93.25</td>\n",
       "      <td>0.0</td>\n",
       "      <td>2015.0</td>\n",
       "      <td>Albany</td>\n",
       "    </tr>\n",
       "    <tr>\n",
       "      <th>1</th>\n",
       "      <td>1.0</td>\n",
       "      <td>2015-12-20</td>\n",
       "      <td>1.35</td>\n",
       "      <td>54876.98</td>\n",
       "      <td>674.28</td>\n",
       "      <td>44638.81</td>\n",
       "      <td>58.33</td>\n",
       "      <td>9408.07</td>\n",
       "      <td>97.49</td>\n",
       "      <td>0.0</td>\n",
       "      <td>2015.0</td>\n",
       "      <td>Albany</td>\n",
       "    </tr>\n",
       "    <tr>\n",
       "      <th>2</th>\n",
       "      <td>2.0</td>\n",
       "      <td>2015-12-13</td>\n",
       "      <td>0.93</td>\n",
       "      <td>118220.22</td>\n",
       "      <td>794.70</td>\n",
       "      <td>109149.67</td>\n",
       "      <td>130.50</td>\n",
       "      <td>8042.21</td>\n",
       "      <td>103.14</td>\n",
       "      <td>0.0</td>\n",
       "      <td>2015.0</td>\n",
       "      <td>Albany</td>\n",
       "    </tr>\n",
       "    <tr>\n",
       "      <th>3</th>\n",
       "      <td>3.0</td>\n",
       "      <td>2015-06-12</td>\n",
       "      <td>1.08</td>\n",
       "      <td>78992.15</td>\n",
       "      <td>1132.00</td>\n",
       "      <td>71976.41</td>\n",
       "      <td>72.58</td>\n",
       "      <td>5677.40</td>\n",
       "      <td>133.76</td>\n",
       "      <td>0.0</td>\n",
       "      <td>2015.0</td>\n",
       "      <td>Albany</td>\n",
       "    </tr>\n",
       "    <tr>\n",
       "      <th>4</th>\n",
       "      <td>4.0</td>\n",
       "      <td>2015-11-29</td>\n",
       "      <td>1.28</td>\n",
       "      <td>51039.60</td>\n",
       "      <td>941.48</td>\n",
       "      <td>43838.39</td>\n",
       "      <td>75.78</td>\n",
       "      <td>5986.26</td>\n",
       "      <td>197.69</td>\n",
       "      <td>0.0</td>\n",
       "      <td>2015.0</td>\n",
       "      <td>Albany</td>\n",
       "    </tr>\n",
       "  </tbody>\n",
       "</table>\n",
       "</div>"
      ],
      "text/plain": [
       "   Unnamed: 0       Date  AveragePrice  Total Volume     4046       4225  \\\n",
       "0         0.0 2015-12-27          1.33      64236.62  1036.74   54454.85   \n",
       "1         1.0 2015-12-20          1.35      54876.98   674.28   44638.81   \n",
       "2         2.0 2015-12-13          0.93     118220.22   794.70  109149.67   \n",
       "3         3.0 2015-06-12          1.08      78992.15  1132.00   71976.41   \n",
       "4         4.0 2015-11-29          1.28      51039.60   941.48   43838.39   \n",
       "\n",
       "     4770  Small Bags  Large Bags  XLarge Bags    year  region  \n",
       "0   48.16     8603.62       93.25          0.0  2015.0  Albany  \n",
       "1   58.33     9408.07       97.49          0.0  2015.0  Albany  \n",
       "2  130.50     8042.21      103.14          0.0  2015.0  Albany  \n",
       "3   72.58     5677.40      133.76          0.0  2015.0  Albany  \n",
       "4   75.78     5986.26      197.69          0.0  2015.0  Albany  "
      ]
     },
     "execution_count": 99,
     "metadata": {},
     "output_type": "execute_result"
    }
   ],
   "source": [
    "df.head()"
   ]
  },
  {
   "cell_type": "code",
   "execution_count": 100,
   "metadata": {},
   "outputs": [
    {
     "data": {
      "text/plain": [
       "711"
      ]
     },
     "execution_count": 100,
     "metadata": {},
     "output_type": "execute_result"
    }
   ],
   "source": [
    "df['XLarge Bags'].nunique()"
   ]
  },
  {
   "cell_type": "code",
   "execution_count": 101,
   "metadata": {},
   "outputs": [
    {
     "data": {
      "text/plain": [
       "52"
      ]
     },
     "execution_count": 101,
     "metadata": {},
     "output_type": "execute_result"
    }
   ],
   "source": [
    "df['Unnamed: 0'].nunique()"
   ]
  },
  {
   "cell_type": "code",
   "execution_count": 102,
   "metadata": {},
   "outputs": [
    {
     "data": {
      "text/plain": [
       "38.0    40\n",
       "37.0    40\n",
       "36.0    39\n",
       "40.0    38\n",
       "39.0    38\n",
       "33.0    38\n",
       "35.0    38\n",
       "34.0    37\n",
       "41.0    37\n",
       "43.0    36\n",
       "42.0    36\n",
       "44.0    35\n",
       "32.0    34\n",
       "45.0    34\n",
       "31.0    33\n",
       "46.0    33\n",
       "29.0    33\n",
       "30.0    32\n",
       "28.0    31\n",
       "47.0    30\n",
       "6.0     28\n",
       "27.0    28\n",
       "2.0     28\n",
       "5.0     28\n",
       "1.0     28\n",
       "4.0     28\n",
       "3.0     28\n",
       "0.0     27\n",
       "48.0    27\n",
       "7.0     27\n",
       "8.0     26\n",
       "25.0    26\n",
       "49.0    26\n",
       "26.0    26\n",
       "20.0    25\n",
       "19.0    24\n",
       "10.0    24\n",
       "50.0    24\n",
       "24.0    24\n",
       "21.0    24\n",
       "18.0    24\n",
       "9.0     24\n",
       "11.0    24\n",
       "12.0    24\n",
       "17.0    24\n",
       "13.0    23\n",
       "22.0    23\n",
       "23.0    23\n",
       "14.0    23\n",
       "16.0    23\n",
       "51.0    23\n",
       "15.0    21\n",
       "Name: Unnamed: 0, dtype: int64"
      ]
     },
     "execution_count": 102,
     "metadata": {},
     "output_type": "execute_result"
    }
   ],
   "source": [
    "df['Unnamed: 0'].value_counts()"
   ]
  },
  {
   "cell_type": "code",
   "execution_count": 103,
   "metadata": {},
   "outputs": [],
   "source": [
    "df['Day']=df['Date'].dt.day\n",
    "df['Month']=df['Date'].dt.month\n"
   ]
  },
  {
   "cell_type": "code",
   "execution_count": 104,
   "metadata": {},
   "outputs": [
    {
     "data": {
      "text/html": [
       "<div>\n",
       "<style scoped>\n",
       "    .dataframe tbody tr th:only-of-type {\n",
       "        vertical-align: middle;\n",
       "    }\n",
       "\n",
       "    .dataframe tbody tr th {\n",
       "        vertical-align: top;\n",
       "    }\n",
       "\n",
       "    .dataframe thead th {\n",
       "        text-align: right;\n",
       "    }\n",
       "</style>\n",
       "<table border=\"1\" class=\"dataframe\">\n",
       "  <thead>\n",
       "    <tr style=\"text-align: right;\">\n",
       "      <th></th>\n",
       "      <th>Unnamed: 0</th>\n",
       "      <th>Date</th>\n",
       "      <th>AveragePrice</th>\n",
       "      <th>Total Volume</th>\n",
       "      <th>4046</th>\n",
       "      <th>4225</th>\n",
       "      <th>4770</th>\n",
       "      <th>Small Bags</th>\n",
       "      <th>Large Bags</th>\n",
       "      <th>XLarge Bags</th>\n",
       "      <th>year</th>\n",
       "      <th>region</th>\n",
       "      <th>Day</th>\n",
       "      <th>Month</th>\n",
       "    </tr>\n",
       "  </thead>\n",
       "  <tbody>\n",
       "    <tr>\n",
       "      <th>0</th>\n",
       "      <td>0.0</td>\n",
       "      <td>2015-12-27</td>\n",
       "      <td>1.33</td>\n",
       "      <td>64236.62</td>\n",
       "      <td>1036.74</td>\n",
       "      <td>54454.85</td>\n",
       "      <td>48.16</td>\n",
       "      <td>8603.62</td>\n",
       "      <td>93.25</td>\n",
       "      <td>0.0</td>\n",
       "      <td>2015.0</td>\n",
       "      <td>Albany</td>\n",
       "      <td>27</td>\n",
       "      <td>12</td>\n",
       "    </tr>\n",
       "    <tr>\n",
       "      <th>1</th>\n",
       "      <td>1.0</td>\n",
       "      <td>2015-12-20</td>\n",
       "      <td>1.35</td>\n",
       "      <td>54876.98</td>\n",
       "      <td>674.28</td>\n",
       "      <td>44638.81</td>\n",
       "      <td>58.33</td>\n",
       "      <td>9408.07</td>\n",
       "      <td>97.49</td>\n",
       "      <td>0.0</td>\n",
       "      <td>2015.0</td>\n",
       "      <td>Albany</td>\n",
       "      <td>20</td>\n",
       "      <td>12</td>\n",
       "    </tr>\n",
       "    <tr>\n",
       "      <th>2</th>\n",
       "      <td>2.0</td>\n",
       "      <td>2015-12-13</td>\n",
       "      <td>0.93</td>\n",
       "      <td>118220.22</td>\n",
       "      <td>794.70</td>\n",
       "      <td>109149.67</td>\n",
       "      <td>130.50</td>\n",
       "      <td>8042.21</td>\n",
       "      <td>103.14</td>\n",
       "      <td>0.0</td>\n",
       "      <td>2015.0</td>\n",
       "      <td>Albany</td>\n",
       "      <td>13</td>\n",
       "      <td>12</td>\n",
       "    </tr>\n",
       "    <tr>\n",
       "      <th>3</th>\n",
       "      <td>3.0</td>\n",
       "      <td>2015-06-12</td>\n",
       "      <td>1.08</td>\n",
       "      <td>78992.15</td>\n",
       "      <td>1132.00</td>\n",
       "      <td>71976.41</td>\n",
       "      <td>72.58</td>\n",
       "      <td>5677.40</td>\n",
       "      <td>133.76</td>\n",
       "      <td>0.0</td>\n",
       "      <td>2015.0</td>\n",
       "      <td>Albany</td>\n",
       "      <td>12</td>\n",
       "      <td>6</td>\n",
       "    </tr>\n",
       "    <tr>\n",
       "      <th>4</th>\n",
       "      <td>4.0</td>\n",
       "      <td>2015-11-29</td>\n",
       "      <td>1.28</td>\n",
       "      <td>51039.60</td>\n",
       "      <td>941.48</td>\n",
       "      <td>43838.39</td>\n",
       "      <td>75.78</td>\n",
       "      <td>5986.26</td>\n",
       "      <td>197.69</td>\n",
       "      <td>0.0</td>\n",
       "      <td>2015.0</td>\n",
       "      <td>Albany</td>\n",
       "      <td>29</td>\n",
       "      <td>11</td>\n",
       "    </tr>\n",
       "  </tbody>\n",
       "</table>\n",
       "</div>"
      ],
      "text/plain": [
       "   Unnamed: 0       Date  AveragePrice  Total Volume     4046       4225  \\\n",
       "0         0.0 2015-12-27          1.33      64236.62  1036.74   54454.85   \n",
       "1         1.0 2015-12-20          1.35      54876.98   674.28   44638.81   \n",
       "2         2.0 2015-12-13          0.93     118220.22   794.70  109149.67   \n",
       "3         3.0 2015-06-12          1.08      78992.15  1132.00   71976.41   \n",
       "4         4.0 2015-11-29          1.28      51039.60   941.48   43838.39   \n",
       "\n",
       "     4770  Small Bags  Large Bags  XLarge Bags    year  region  Day  Month  \n",
       "0   48.16     8603.62       93.25          0.0  2015.0  Albany   27     12  \n",
       "1   58.33     9408.07       97.49          0.0  2015.0  Albany   20     12  \n",
       "2  130.50     8042.21      103.14          0.0  2015.0  Albany   13     12  \n",
       "3   72.58     5677.40      133.76          0.0  2015.0  Albany   12      6  \n",
       "4   75.78     5986.26      197.69          0.0  2015.0  Albany   29     11  "
      ]
     },
     "execution_count": 104,
     "metadata": {},
     "output_type": "execute_result"
    }
   ],
   "source": [
    "df.head()"
   ]
  },
  {
   "cell_type": "code",
   "execution_count": 105,
   "metadata": {},
   "outputs": [],
   "source": [
    "df.drop(['Date'],axis=1,inplace=True)"
   ]
  },
  {
   "cell_type": "code",
   "execution_count": 106,
   "metadata": {},
   "outputs": [
    {
     "data": {
      "text/html": [
       "<div>\n",
       "<style scoped>\n",
       "    .dataframe tbody tr th:only-of-type {\n",
       "        vertical-align: middle;\n",
       "    }\n",
       "\n",
       "    .dataframe tbody tr th {\n",
       "        vertical-align: top;\n",
       "    }\n",
       "\n",
       "    .dataframe thead th {\n",
       "        text-align: right;\n",
       "    }\n",
       "</style>\n",
       "<table border=\"1\" class=\"dataframe\">\n",
       "  <thead>\n",
       "    <tr style=\"text-align: right;\">\n",
       "      <th></th>\n",
       "      <th>Unnamed: 0</th>\n",
       "      <th>AveragePrice</th>\n",
       "      <th>Total Volume</th>\n",
       "      <th>4046</th>\n",
       "      <th>4225</th>\n",
       "      <th>4770</th>\n",
       "      <th>Small Bags</th>\n",
       "      <th>Large Bags</th>\n",
       "      <th>XLarge Bags</th>\n",
       "      <th>year</th>\n",
       "      <th>region</th>\n",
       "      <th>Day</th>\n",
       "      <th>Month</th>\n",
       "    </tr>\n",
       "  </thead>\n",
       "  <tbody>\n",
       "    <tr>\n",
       "      <th>0</th>\n",
       "      <td>0.0</td>\n",
       "      <td>1.33</td>\n",
       "      <td>64236.62</td>\n",
       "      <td>1036.74</td>\n",
       "      <td>54454.85</td>\n",
       "      <td>48.16</td>\n",
       "      <td>8603.62</td>\n",
       "      <td>93.25</td>\n",
       "      <td>0.0</td>\n",
       "      <td>2015.0</td>\n",
       "      <td>Albany</td>\n",
       "      <td>27</td>\n",
       "      <td>12</td>\n",
       "    </tr>\n",
       "    <tr>\n",
       "      <th>1</th>\n",
       "      <td>1.0</td>\n",
       "      <td>1.35</td>\n",
       "      <td>54876.98</td>\n",
       "      <td>674.28</td>\n",
       "      <td>44638.81</td>\n",
       "      <td>58.33</td>\n",
       "      <td>9408.07</td>\n",
       "      <td>97.49</td>\n",
       "      <td>0.0</td>\n",
       "      <td>2015.0</td>\n",
       "      <td>Albany</td>\n",
       "      <td>20</td>\n",
       "      <td>12</td>\n",
       "    </tr>\n",
       "    <tr>\n",
       "      <th>2</th>\n",
       "      <td>2.0</td>\n",
       "      <td>0.93</td>\n",
       "      <td>118220.22</td>\n",
       "      <td>794.70</td>\n",
       "      <td>109149.67</td>\n",
       "      <td>130.50</td>\n",
       "      <td>8042.21</td>\n",
       "      <td>103.14</td>\n",
       "      <td>0.0</td>\n",
       "      <td>2015.0</td>\n",
       "      <td>Albany</td>\n",
       "      <td>13</td>\n",
       "      <td>12</td>\n",
       "    </tr>\n",
       "    <tr>\n",
       "      <th>3</th>\n",
       "      <td>3.0</td>\n",
       "      <td>1.08</td>\n",
       "      <td>78992.15</td>\n",
       "      <td>1132.00</td>\n",
       "      <td>71976.41</td>\n",
       "      <td>72.58</td>\n",
       "      <td>5677.40</td>\n",
       "      <td>133.76</td>\n",
       "      <td>0.0</td>\n",
       "      <td>2015.0</td>\n",
       "      <td>Albany</td>\n",
       "      <td>12</td>\n",
       "      <td>6</td>\n",
       "    </tr>\n",
       "    <tr>\n",
       "      <th>4</th>\n",
       "      <td>4.0</td>\n",
       "      <td>1.28</td>\n",
       "      <td>51039.60</td>\n",
       "      <td>941.48</td>\n",
       "      <td>43838.39</td>\n",
       "      <td>75.78</td>\n",
       "      <td>5986.26</td>\n",
       "      <td>197.69</td>\n",
       "      <td>0.0</td>\n",
       "      <td>2015.0</td>\n",
       "      <td>Albany</td>\n",
       "      <td>29</td>\n",
       "      <td>11</td>\n",
       "    </tr>\n",
       "  </tbody>\n",
       "</table>\n",
       "</div>"
      ],
      "text/plain": [
       "   Unnamed: 0  AveragePrice  Total Volume     4046       4225    4770  \\\n",
       "0         0.0          1.33      64236.62  1036.74   54454.85   48.16   \n",
       "1         1.0          1.35      54876.98   674.28   44638.81   58.33   \n",
       "2         2.0          0.93     118220.22   794.70  109149.67  130.50   \n",
       "3         3.0          1.08      78992.15  1132.00   71976.41   72.58   \n",
       "4         4.0          1.28      51039.60   941.48   43838.39   75.78   \n",
       "\n",
       "   Small Bags  Large Bags  XLarge Bags    year  region  Day  Month  \n",
       "0     8603.62       93.25          0.0  2015.0  Albany   27     12  \n",
       "1     9408.07       97.49          0.0  2015.0  Albany   20     12  \n",
       "2     8042.21      103.14          0.0  2015.0  Albany   13     12  \n",
       "3     5677.40      133.76          0.0  2015.0  Albany   12      6  \n",
       "4     5986.26      197.69          0.0  2015.0  Albany   29     11  "
      ]
     },
     "execution_count": 106,
     "metadata": {},
     "output_type": "execute_result"
    }
   ],
   "source": [
    "df.head()"
   ]
  },
  {
   "cell_type": "markdown",
   "metadata": {},
   "source": [
    "# EDA"
   ]
  },
  {
   "cell_type": "code",
   "execution_count": 107,
   "metadata": {},
   "outputs": [],
   "source": [
    "import matplotlib.pyplot as plt\n",
    "%matplotlib inline\n",
    "import seaborn as sns"
   ]
  },
  {
   "cell_type": "code",
   "execution_count": 110,
   "metadata": {},
   "outputs": [
    {
     "data": {
      "text/plain": [
       "<matplotlib.axes._subplots.AxesSubplot at 0x279dcdbbe48>"
      ]
     },
     "execution_count": 110,
     "metadata": {},
     "output_type": "execute_result"
    },
    {
     "data": {
      "image/png": "[encoded data removed]",
      "text/plain": [
       "<Figure size 720x720 with 1 Axes>"
      ]
     },
     "metadata": {
      "needs_background": "light"
     },
     "output_type": "display_data"
    }
   ],
   "source": [
    "plt.figure(figsize=(10,10))\n",
    "sns.barplot(x=df['AveragePrice'],y=df['region'],hue=df['year'])"
   ]
  },
  {
   "cell_type": "markdown",
   "metadata": {},
   "source": [
    "OBSERVATION:\n",
    "    \n",
    "    regions with sales in both 2015 and 2016:\n",
    "        1)albany\n",
    "        \n",
    "        2)atlanta\n",
    "        \n",
    "        3)baltimore washington\n",
    "        \n",
    "        4)boise\n",
    "        \n",
    "        5)boston\n",
    "        \n",
    "        6)buffalo rochester\n",
    "        \n",
    "        7)california\n",
    "        \n",
    "        8)charolette\n",
    "        \n",
    "Rest of the regions had sales only in 2016"
   ]
  },
  {
   "cell_type": "code",
   "execution_count": 113,
   "metadata": {},
   "outputs": [
    {
     "data": {
      "text/plain": [
       "<matplotlib.axes._subplots.AxesSubplot at 0x279ddb8cfc8>"
      ]
     },
     "execution_count": 113,
     "metadata": {},
     "output_type": "execute_result"
    },
    {
     "data": {
      "image/png": "[encoded data removed]",
      "text/plain": [
       "<Figure size 1440x216 with 3 Axes>"
      ]
     },
     "metadata": {
      "needs_background": "light"
     },
     "output_type": "display_data"
    }
   ],
   "source": [
    "fig, axes = plt.subplots(1, 3, figsize=(20, 3))\n",
    "sns.distplot(df['4770'] , color=\"dodgerblue\", ax=axes[0], axlabel='4770')\n",
    "sns.distplot(df['4046'] , color=\"deeppink\", ax=axes[1], axlabel='4046')\n",
    "sns.distplot(df['4225'] , color=\"gold\", ax=axes[2], axlabel='4225')\n"
   ]
  },
  {
   "cell_type": "code",
   "execution_count": 114,
   "metadata": {},
   "outputs": [
    {
     "data": {
      "text/plain": [
       "<matplotlib.axes._subplots.AxesSubplot at 0x279dde31cc8>"
      ]
     },
     "execution_count": 114,
     "metadata": {},
     "output_type": "execute_result"
    },
    {
     "data": {
      "image/png": "[encoded data removed]",
      "text/plain": [
       "<Figure size 1440x216 with 3 Axes>"
      ]
     },
     "metadata": {
      "needs_background": "light"
     },
     "output_type": "display_data"
    }
   ],
   "source": [
    "fig, axes = plt.subplots(1, 3, figsize=(20, 3))\n",
    "sns.distplot(df['XLarge Bags'] , color=\"dodgerblue\", ax=axes[0], axlabel='XLarge Bags')\n",
    "sns.distplot(df['Small Bags'] , color=\"deeppink\", ax=axes[1], axlabel='Small Bags')\n",
    "sns.distplot(df['Large Bags'] , color=\"gold\", ax=axes[2], axlabel='Large Bags')\n"
   ]
  },
  {
   "cell_type": "code",
   "execution_count": 115,
   "metadata": {},
   "outputs": [
    {
     "data": {
      "text/plain": [
       "<matplotlib.axes._subplots.AxesSubplot at 0x279ddedfa48>"
      ]
     },
     "execution_count": 115,
     "metadata": {},
     "output_type": "execute_result"
    },
    {
     "data": {
      "image/png": "[encoded data removed]",
      "text/plain": [
       "<Figure size 720x720 with 1 Axes>"
      ]
     },
     "metadata": {
      "needs_background": "light"
     },
     "output_type": "display_data"
    }
   ],
   "source": [
    "plt.figure(figsize=(10,10))\n",
    "sns.barplot(x=df['Total Volume'],y=df['region'],hue=df['year'])"
   ]
  },
  {
   "cell_type": "markdown",
   "metadata": {},
   "source": [
    "# Checking for skewness"
   ]
  },
  {
   "cell_type": "code",
   "execution_count": 116,
   "metadata": {},
   "outputs": [
    {
     "data": {
      "text/plain": [
       "Unnamed: 0     -0.234824\n",
       "AveragePrice   -0.109444\n",
       "Total Volume    6.200138\n",
       "4046            6.051830\n",
       "4225            6.394926\n",
       "4770            5.405164\n",
       "Small Bags      5.355185\n",
       "Large Bags      5.144495\n",
       "XLarge Bags     5.775077\n",
       "year            1.828332\n",
       "Day             0.041303\n",
       "Month           0.101439\n",
       "dtype: float64"
      ]
     },
     "execution_count": 116,
     "metadata": {},
     "output_type": "execute_result"
    }
   ],
   "source": [
    "df.skew()"
   ]
  },
  {
   "cell_type": "markdown",
   "metadata": {},
   "source": [
    "Skewness is present in almost all the columns"
   ]
  },
  {
   "cell_type": "markdown",
   "metadata": {},
   "source": [
    "# Checking correlation"
   ]
  },
  {
   "cell_type": "code",
   "execution_count": 117,
   "metadata": {},
   "outputs": [],
   "source": [
    "df_cor=df.corr()"
   ]
  },
  {
   "cell_type": "code",
   "execution_count": 118,
   "metadata": {},
   "outputs": [
    {
     "data": {
      "text/html": [
       "<div>\n",
       "<style scoped>\n",
       "    .dataframe tbody tr th:only-of-type {\n",
       "        vertical-align: middle;\n",
       "    }\n",
       "\n",
       "    .dataframe tbody tr th {\n",
       "        vertical-align: top;\n",
       "    }\n",
       "\n",
       "    .dataframe thead th {\n",
       "        text-align: right;\n",
       "    }\n",
       "</style>\n",
       "<table border=\"1\" class=\"dataframe\">\n",
       "  <thead>\n",
       "    <tr style=\"text-align: right;\">\n",
       "      <th></th>\n",
       "      <th>Unnamed: 0</th>\n",
       "      <th>AveragePrice</th>\n",
       "      <th>Total Volume</th>\n",
       "      <th>4046</th>\n",
       "      <th>4225</th>\n",
       "      <th>4770</th>\n",
       "      <th>Small Bags</th>\n",
       "      <th>Large Bags</th>\n",
       "      <th>XLarge Bags</th>\n",
       "      <th>year</th>\n",
       "      <th>Day</th>\n",
       "      <th>Month</th>\n",
       "    </tr>\n",
       "  </thead>\n",
       "  <tbody>\n",
       "    <tr>\n",
       "      <th>Unnamed: 0</th>\n",
       "      <td>1.000000</td>\n",
       "      <td>-0.075531</td>\n",
       "      <td>0.091934</td>\n",
       "      <td>0.092013</td>\n",
       "      <td>0.093566</td>\n",
       "      <td>0.075647</td>\n",
       "      <td>0.083485</td>\n",
       "      <td>0.065364</td>\n",
       "      <td>-0.050993</td>\n",
       "      <td>-0.012854</td>\n",
       "      <td>-0.261166</td>\n",
       "      <td>-0.598729</td>\n",
       "    </tr>\n",
       "    <tr>\n",
       "      <th>AveragePrice</th>\n",
       "      <td>-0.075531</td>\n",
       "      <td>1.000000</td>\n",
       "      <td>-0.140470</td>\n",
       "      <td>-0.190096</td>\n",
       "      <td>-0.092084</td>\n",
       "      <td>-0.100567</td>\n",
       "      <td>-0.097682</td>\n",
       "      <td>-0.177480</td>\n",
       "      <td>-0.048284</td>\n",
       "      <td>0.178683</td>\n",
       "      <td>0.092589</td>\n",
       "      <td>0.060642</td>\n",
       "    </tr>\n",
       "    <tr>\n",
       "      <th>Total Volume</th>\n",
       "      <td>0.091934</td>\n",
       "      <td>-0.140470</td>\n",
       "      <td>1.000000</td>\n",
       "      <td>0.985568</td>\n",
       "      <td>0.987154</td>\n",
       "      <td>0.934347</td>\n",
       "      <td>0.960642</td>\n",
       "      <td>0.910226</td>\n",
       "      <td>0.521717</td>\n",
       "      <td>-0.004189</td>\n",
       "      <td>-0.034857</td>\n",
       "      <td>-0.055212</td>\n",
       "    </tr>\n",
       "    <tr>\n",
       "      <th>4046</th>\n",
       "      <td>0.092013</td>\n",
       "      <td>-0.190096</td>\n",
       "      <td>0.985568</td>\n",
       "      <td>1.000000</td>\n",
       "      <td>0.951952</td>\n",
       "      <td>0.898570</td>\n",
       "      <td>0.922278</td>\n",
       "      <td>0.884229</td>\n",
       "      <td>0.474063</td>\n",
       "      <td>-0.040439</td>\n",
       "      <td>-0.031806</td>\n",
       "      <td>-0.053007</td>\n",
       "    </tr>\n",
       "    <tr>\n",
       "      <th>4225</th>\n",
       "      <td>0.093566</td>\n",
       "      <td>-0.092084</td>\n",
       "      <td>0.987154</td>\n",
       "      <td>0.951952</td>\n",
       "      <td>1.000000</td>\n",
       "      <td>0.927757</td>\n",
       "      <td>0.943988</td>\n",
       "      <td>0.900496</td>\n",
       "      <td>0.504718</td>\n",
       "      <td>-0.007254</td>\n",
       "      <td>-0.044008</td>\n",
       "      <td>-0.058429</td>\n",
       "    </tr>\n",
       "    <tr>\n",
       "      <th>4770</th>\n",
       "      <td>0.075647</td>\n",
       "      <td>-0.100567</td>\n",
       "      <td>0.934347</td>\n",
       "      <td>0.898570</td>\n",
       "      <td>0.927757</td>\n",
       "      <td>1.000000</td>\n",
       "      <td>0.923607</td>\n",
       "      <td>0.840523</td>\n",
       "      <td>0.646053</td>\n",
       "      <td>0.029222</td>\n",
       "      <td>-0.021318</td>\n",
       "      <td>-0.055079</td>\n",
       "    </tr>\n",
       "    <tr>\n",
       "      <th>Small Bags</th>\n",
       "      <td>0.083485</td>\n",
       "      <td>-0.097682</td>\n",
       "      <td>0.960642</td>\n",
       "      <td>0.922278</td>\n",
       "      <td>0.943988</td>\n",
       "      <td>0.923607</td>\n",
       "      <td>1.000000</td>\n",
       "      <td>0.879131</td>\n",
       "      <td>0.611300</td>\n",
       "      <td>0.106382</td>\n",
       "      <td>-0.016462</td>\n",
       "      <td>-0.048978</td>\n",
       "    </tr>\n",
       "    <tr>\n",
       "      <th>Large Bags</th>\n",
       "      <td>0.065364</td>\n",
       "      <td>-0.177480</td>\n",
       "      <td>0.910226</td>\n",
       "      <td>0.884229</td>\n",
       "      <td>0.900496</td>\n",
       "      <td>0.840523</td>\n",
       "      <td>0.879131</td>\n",
       "      <td>1.000000</td>\n",
       "      <td>0.447779</td>\n",
       "      <td>-0.018678</td>\n",
       "      <td>-0.046578</td>\n",
       "      <td>-0.039242</td>\n",
       "    </tr>\n",
       "    <tr>\n",
       "      <th>XLarge Bags</th>\n",
       "      <td>-0.050993</td>\n",
       "      <td>-0.048284</td>\n",
       "      <td>0.521717</td>\n",
       "      <td>0.474063</td>\n",
       "      <td>0.504718</td>\n",
       "      <td>0.646053</td>\n",
       "      <td>0.611300</td>\n",
       "      <td>0.447779</td>\n",
       "      <td>1.000000</td>\n",
       "      <td>0.218342</td>\n",
       "      <td>0.019315</td>\n",
       "      <td>0.021452</td>\n",
       "    </tr>\n",
       "    <tr>\n",
       "      <th>year</th>\n",
       "      <td>-0.012854</td>\n",
       "      <td>0.178683</td>\n",
       "      <td>-0.004189</td>\n",
       "      <td>-0.040439</td>\n",
       "      <td>-0.007254</td>\n",
       "      <td>0.029222</td>\n",
       "      <td>0.106382</td>\n",
       "      <td>-0.018678</td>\n",
       "      <td>0.218342</td>\n",
       "      <td>1.000000</td>\n",
       "      <td>0.029744</td>\n",
       "      <td>-0.013144</td>\n",
       "    </tr>\n",
       "    <tr>\n",
       "      <th>Day</th>\n",
       "      <td>-0.261166</td>\n",
       "      <td>0.092589</td>\n",
       "      <td>-0.034857</td>\n",
       "      <td>-0.031806</td>\n",
       "      <td>-0.044008</td>\n",
       "      <td>-0.021318</td>\n",
       "      <td>-0.016462</td>\n",
       "      <td>-0.046578</td>\n",
       "      <td>0.019315</td>\n",
       "      <td>0.029744</td>\n",
       "      <td>1.000000</td>\n",
       "      <td>-0.024337</td>\n",
       "    </tr>\n",
       "    <tr>\n",
       "      <th>Month</th>\n",
       "      <td>-0.598729</td>\n",
       "      <td>0.060642</td>\n",
       "      <td>-0.055212</td>\n",
       "      <td>-0.053007</td>\n",
       "      <td>-0.058429</td>\n",
       "      <td>-0.055079</td>\n",
       "      <td>-0.048978</td>\n",
       "      <td>-0.039242</td>\n",
       "      <td>0.021452</td>\n",
       "      <td>-0.013144</td>\n",
       "      <td>-0.024337</td>\n",
       "      <td>1.000000</td>\n",
       "    </tr>\n",
       "  </tbody>\n",
       "</table>\n",
       "</div>"
      ],
      "text/plain": [
       "              Unnamed: 0  AveragePrice  Total Volume      4046      4225  \\\n",
       "Unnamed: 0      1.000000     -0.075531      0.091934  0.092013  0.093566   \n",
       "AveragePrice   -0.075531      1.000000     -0.140470 -0.190096 -0.092084   \n",
       "Total Volume    0.091934     -0.140470      1.000000  0.985568  0.987154   \n",
       "4046            0.092013     -0.190096      0.985568  1.000000  0.951952   \n",
       "4225            0.093566     -0.092084      0.987154  0.951952  1.000000   \n",
       "4770            0.075647     -0.100567      0.934347  0.898570  0.927757   \n",
       "Small Bags      0.083485     -0.097682      0.960642  0.922278  0.943988   \n",
       "Large Bags      0.065364     -0.177480      0.910226  0.884229  0.900496   \n",
       "XLarge Bags    -0.050993     -0.048284      0.521717  0.474063  0.504718   \n",
       "year           -0.012854      0.178683     -0.004189 -0.040439 -0.007254   \n",
       "Day            -0.261166      0.092589     -0.034857 -0.031806 -0.044008   \n",
       "Month          -0.598729      0.060642     -0.055212 -0.053007 -0.058429   \n",
       "\n",
       "                  4770  Small Bags  Large Bags  XLarge Bags      year  \\\n",
       "Unnamed: 0    0.075647    0.083485    0.065364    -0.050993 -0.012854   \n",
       "AveragePrice -0.100567   -0.097682   -0.177480    -0.048284  0.178683   \n",
       "Total Volume  0.934347    0.960642    0.910226     0.521717 -0.004189   \n",
       "4046          0.898570    0.922278    0.884229     0.474063 -0.040439   \n",
       "4225          0.927757    0.943988    0.900496     0.504718 -0.007254   \n",
       "4770          1.000000    0.923607    0.840523     0.646053  0.029222   \n",
       "Small Bags    0.923607    1.000000    0.879131     0.611300  0.106382   \n",
       "Large Bags    0.840523    0.879131    1.000000     0.447779 -0.018678   \n",
       "XLarge Bags   0.646053    0.611300    0.447779     1.000000  0.218342   \n",
       "year          0.029222    0.106382   -0.018678     0.218342  1.000000   \n",
       "Day          -0.021318   -0.016462   -0.046578     0.019315  0.029744   \n",
       "Month        -0.055079   -0.048978   -0.039242     0.021452 -0.013144   \n",
       "\n",
       "                   Day     Month  \n",
       "Unnamed: 0   -0.261166 -0.598729  \n",
       "AveragePrice  0.092589  0.060642  \n",
       "Total Volume -0.034857 -0.055212  \n",
       "4046         -0.031806 -0.053007  \n",
       "4225         -0.044008 -0.058429  \n",
       "4770         -0.021318 -0.055079  \n",
       "Small Bags   -0.016462 -0.048978  \n",
       "Large Bags   -0.046578 -0.039242  \n",
       "XLarge Bags   0.019315  0.021452  \n",
       "year          0.029744 -0.013144  \n",
       "Day           1.000000 -0.024337  \n",
       "Month        -0.024337  1.000000  "
      ]
     },
     "execution_count": 118,
     "metadata": {},
     "output_type": "execute_result"
    }
   ],
   "source": [
    "df_cor"
   ]
  },
  {
   "cell_type": "markdown",
   "metadata": {},
   "source": [
    "# plotting correlations"
   ]
  },
  {
   "cell_type": "code",
   "execution_count": 119,
   "metadata": {},
   "outputs": [
    {
     "data": {
      "text/plain": [
       "<matplotlib.axes._subplots.AxesSubplot at 0x279de657a88>"
      ]
     },
     "execution_count": 119,
     "metadata": {},
     "output_type": "execute_result"
    },
    {
     "data": {
      "image/png": "[encoded data removed]",
      "text/plain": [
       "<Figure size 720x720 with 2 Axes>"
      ]
     },
     "metadata": {
      "needs_background": "light"
     },
     "output_type": "display_data"
    }
   ],
   "source": [
    "import matplotlib.pyplot as plt\n",
    "%matplotlib inline\n",
    "import seaborn as sns\n",
    "\n",
    "plt.figure(figsize=(10,10))\n",
    "sns.heatmap(df_cor,cmap='OrRd_r',annot=True)"
   ]
  },
  {
   "cell_type": "markdown",
   "metadata": {},
   "source": [
    "# OBSERVATION:"
   ]
  },
  {
   "cell_type": "markdown",
   "metadata": {},
   "source": [
    "as cregion column is of object data type , converting it to numeric through label encoder"
   ]
  },
  {
   "cell_type": "code",
   "execution_count": 120,
   "metadata": {},
   "outputs": [],
   "source": [
    "from sklearn.preprocessing import LabelEncoder\n",
    "le=LabelEncoder()\n",
    "df['region']=le.fit_transform(df['region'])"
   ]
  },
  {
   "cell_type": "markdown",
   "metadata": {},
   "source": [
    "# Removing Outliers::\n",
    "        \n"
   ]
  },
  {
   "cell_type": "code",
   "execution_count": 121,
   "metadata": {},
   "outputs": [
    {
     "name": "stdout",
     "output_type": "stream",
     "text": [
      "[[1.81868039 1.35048079 0.34696593 ... 1.3143384  1.31052998 1.62415427]\n",
      " [1.75131034 1.45639674 0.34907791 ... 1.3143384  0.52953678 1.62415427]\n",
      " [1.6839403  0.76783831 0.33478463 ... 1.3143384  0.25145642 1.62415427]\n",
      " ...\n",
      " [1.01023983 2.14485045 0.32120275 ... 0.88028586 0.58616779 1.25685839]\n",
      " [0.94286978 2.09189247 0.31878364 ... 0.88028586 1.08738906 0.75985047]\n",
      " [0.87549974 1.88006056 0.3201721  ... 0.88028586 0.30639586 0.75985047]]\n",
      "(array([ 398,  401,  409,  412,  412,  760, 1016, 1017, 1059, 1182, 1182,\n",
      "       1182, 1182, 1182, 1182, 1182, 1183, 1183, 1183, 1183, 1183, 1183,\n",
      "       1184, 1184, 1184, 1184, 1184, 1184, 1184, 1185, 1185, 1185, 1185,\n",
      "       1185, 1185, 1186, 1186, 1186, 1186, 1186, 1186, 1187, 1187, 1187,\n",
      "       1187, 1187, 1187, 1187, 1188, 1188, 1188, 1188, 1188, 1188, 1189,\n",
      "       1189, 1189, 1189, 1189, 1189, 1189, 1190, 1190, 1190, 1190, 1190,\n",
      "       1190, 1190, 1191, 1191, 1191, 1191, 1191, 1191, 1191, 1192, 1192,\n",
      "       1192, 1192, 1192, 1192, 1193, 1193, 1193, 1193, 1193, 1193, 1194,\n",
      "       1194, 1194, 1194, 1194, 1194, 1195, 1195, 1195, 1195, 1195, 1195,\n",
      "       1195, 1196, 1196, 1196, 1196, 1196, 1196, 1197, 1197, 1197, 1197,\n",
      "       1197, 1197, 1198, 1198, 1198, 1198, 1198, 1198, 1198, 1199, 1199,\n",
      "       1199, 1199, 1199, 1199, 1200, 1200, 1200, 1200, 1200, 1200, 1201,\n",
      "       1201, 1201, 1201, 1201, 1201, 1202, 1202, 1202, 1202, 1202, 1202,\n",
      "       1202, 1203, 1203, 1203, 1203, 1203, 1203, 1204, 1204, 1204, 1204,\n",
      "       1204, 1204, 1205, 1205, 1205, 1205, 1205, 1205, 1206, 1206, 1206,\n",
      "       1206, 1206, 1206, 1207, 1208, 1209, 1210, 1212, 1213, 1215, 1216,\n",
      "       1217, 1218, 1222, 1411, 1450, 1451, 1452, 1453, 1454, 1455, 1456,\n",
      "       1457, 1457, 1458, 1459, 1460, 1461, 1462, 1463, 1464, 1465, 1466,\n",
      "       1467, 1468, 1469, 1470, 1471, 1472, 1473, 1474, 1475, 1476, 1477,\n",
      "       1478, 1479, 1480, 1481, 1483, 1483, 1484, 1495, 1496], dtype=int64), array([8, 8, 8, 5, 8, 1, 8, 8, 7, 2, 3, 4, 5, 6, 7, 8, 2, 3, 4, 5, 6, 7,\n",
      "       2, 3, 4, 5, 6, 7, 8, 2, 3, 4, 5, 6, 7, 2, 3, 4, 5, 6, 7, 2, 3, 4,\n",
      "       5, 6, 7, 8, 2, 3, 4, 5, 6, 7, 2, 3, 4, 5, 6, 7, 8, 2, 3, 4, 5, 6,\n",
      "       7, 8, 2, 3, 4, 5, 6, 7, 8, 2, 3, 4, 5, 6, 7, 2, 3, 4, 5, 6, 7, 2,\n",
      "       3, 4, 5, 6, 7, 2, 3, 4, 5, 6, 7, 8, 2, 3, 4, 5, 6, 7, 2, 3, 4, 5,\n",
      "       6, 7, 2, 3, 4, 5, 6, 7, 8, 2, 3, 4, 5, 6, 7, 2, 3, 4, 5, 6, 7, 2,\n",
      "       3, 4, 5, 6, 7, 2, 3, 4, 5, 6, 7, 8, 2, 3, 4, 5, 6, 7, 2, 3, 4, 5,\n",
      "       6, 7, 2, 3, 4, 5, 6, 7, 2, 3, 4, 5, 6, 7, 7, 7, 7, 7, 7, 7, 7, 7,\n",
      "       7, 7, 7, 1, 8, 8, 8, 8, 8, 8, 8, 1, 8, 1, 8, 8, 8, 8, 8, 8, 8, 8,\n",
      "       8, 8, 8, 8, 8, 8, 8, 8, 8, 8, 8, 8, 8, 8, 8, 7, 8, 7, 6, 6],\n",
      "      dtype=int64))\n"
     ]
    }
   ],
   "source": [
    "from scipy.stats import zscore\n",
    "z=np.abs(zscore(df))\n",
    "print(z)\n",
    "threshold=3\n",
    "print(np.where(z>threshold))\n"
   ]
  },
  {
   "cell_type": "code",
   "execution_count": 122,
   "metadata": {},
   "outputs": [
    {
     "name": "stdout",
     "output_type": "stream",
     "text": [
      "With out removing outliers:: (1517, 13)\n",
      "After removing outliers:: (1436, 13)\n"
     ]
    }
   ],
   "source": [
    "#removing outliers\n",
    "\n",
    "df1=df[(z<3).all(axis=1)]\n",
    "\n",
    "print(\"With out removing outliers::\",df.shape)\n",
    "print(\"After removing outliers::\",df1.shape)"
   ]
  },
  {
   "cell_type": "markdown",
   "metadata": {},
   "source": [
    "5% data removed after tresting outliers"
   ]
  },
  {
   "cell_type": "code",
   "execution_count": 123,
   "metadata": {},
   "outputs": [
    {
     "data": {
      "text/plain": [
       "(1436, 12)"
      ]
     },
     "execution_count": 123,
     "metadata": {},
     "output_type": "execute_result"
    }
   ],
   "source": [
    "x=df1.drop(['AveragePrice'],axis=1)\n",
    "x.shape"
   ]
  },
  {
   "cell_type": "code",
   "execution_count": 124,
   "metadata": {},
   "outputs": [
    {
     "data": {
      "text/plain": [
       "(1436,)"
      ]
     },
     "execution_count": 124,
     "metadata": {},
     "output_type": "execute_result"
    }
   ],
   "source": [
    "y=df1['AveragePrice']\n",
    "y.shape"
   ]
  },
  {
   "cell_type": "code",
   "execution_count": 125,
   "metadata": {},
   "outputs": [],
   "source": [
    "y=y.values.reshape(-1,1)"
   ]
  },
  {
   "cell_type": "code",
   "execution_count": 126,
   "metadata": {},
   "outputs": [
    {
     "data": {
      "text/plain": [
       "(1436, 1)"
      ]
     },
     "execution_count": 126,
     "metadata": {},
     "output_type": "execute_result"
    }
   ],
   "source": [
    "y.shape"
   ]
  },
  {
   "cell_type": "markdown",
   "metadata": {},
   "source": [
    "# Removing skewness:"
   ]
  },
  {
   "cell_type": "code",
   "execution_count": 127,
   "metadata": {},
   "outputs": [],
   "source": [
    "from sklearn.preprocessing import power_transform"
   ]
  },
  {
   "cell_type": "code",
   "execution_count": 128,
   "metadata": {},
   "outputs": [],
   "source": [
    "x=power_transform(df1,method='yeo-johnson')"
   ]
  },
  {
   "cell_type": "markdown",
   "metadata": {},
   "source": [
    "# Checking for best random sate with highest accuracy for different models"
   ]
  },
  {
   "cell_type": "code",
   "execution_count": 129,
   "metadata": {},
   "outputs": [],
   "source": [
    "from sklearn.model_selection import train_test_split\n",
    "from sklearn.metrics import r2_score\n",
    "from sklearn.metrics import mean_squared_error\n",
    "from sklearn.metrics import mean_absolute_error\n",
    "from sklearn.ensemble import RandomForestRegressor\n",
    "from sklearn.ensemble import AdaBoostRegressor\n",
    "from sklearn.linear_model import SGDRegressor\n",
    "from sklearn.linear_model import Lasso\n",
    "from sklearn.linear_model import Ridge\n",
    "from sklearn.linear_model import LinearRegression\n",
    "from sklearn.model_selection import cross_val_score\n",
    "import warnings\n",
    "warnings.simplefilter('ignore')"
   ]
  },
  {
   "cell_type": "code",
   "execution_count": 130,
   "metadata": {},
   "outputs": [
    {
     "name": "stdout",
     "output_type": "stream",
     "text": [
      "Acuuracy of  0.9985913819798742 for Model:: LinearRegression() found in Random state: 57\n",
      "Acuuracy of  0.9999523759982909 for Model:: RandomForestRegressor() found in Random state: 73\n",
      "Acuuracy of  0.9999523759982909 for Model:: AdaBoostRegressor() found in Random state: 73\n",
      "Acuuracy of  0.9999523759982909 for Model:: SGDRegressor() found in Random state: 73\n",
      "Acuuracy of  0.9999523759982909 for Model:: Lasso() found in Random state: 73\n",
      "Acuuracy of  0.9999523759982909 for Model:: Ridge() found in Random state: 73\n"
     ]
    }
   ],
   "source": [
    "\n",
    "best_Randstate=0\n",
    "accuracy=0\n",
    "model=[LinearRegression(),RandomForestRegressor(),AdaBoostRegressor(),SGDRegressor(),Lasso(),Ridge()]\n",
    "for m in model:\n",
    "            for i in range(20,100):\n",
    "                                    x_train,x_test,y_train,y_test=train_test_split(x,y,test_size=.33,random_state=i)\n",
    "                                    m.fit(x_train,y_train)\n",
    "                                    predicted_y=m.predict(x_test)\n",
    "                                    accu_temp=r2_score(y_test,predicted_y)\n",
    "                                    if(accu_temp>accuracy):\n",
    "                                                accuracy=accu_temp\n",
    "                                                best_Randstate=i\n",
    "            print(\"Acuuracy of \",accuracy,\"for Model::\",m,\"found in Random state:\",best_Randstate)"
   ]
  },
  {
   "cell_type": "code",
   "execution_count": 131,
   "metadata": {},
   "outputs": [],
   "source": [
    "x_train,x_test,y_train,y_test=train_test_split(x,y,test_size=0.33,random_state=57)"
   ]
  },
  {
   "cell_type": "markdown",
   "metadata": {},
   "source": [
    "Choosing Linear Regression model"
   ]
  },
  {
   "cell_type": "code",
   "execution_count": 132,
   "metadata": {},
   "outputs": [
    {
     "name": "stdout",
     "output_type": "stream",
     "text": [
      "cross validation score: 0.9973970936559381\n"
     ]
    }
   ],
   "source": [
    "lm=LinearRegression()\n",
    "\n",
    "lm_score=cross_val_score(lm,x,y,cv=5,scoring='r2')\n",
    "\n",
    "print(\"cross validation score:\",np.mean(lm_score))\n",
    "\n",
    "\n"
   ]
  },
  {
   "cell_type": "code",
   "execution_count": 133,
   "metadata": {},
   "outputs": [
    {
     "name": "stdout",
     "output_type": "stream",
     "text": [
      "Accuracy score:: 0.9985913819798742\n",
      "Training accuracy:: 0.9983033596608972\n",
      "Test accuracy:: 0.9985913819798742\n"
     ]
    }
   ],
   "source": [
    "lm.fit(x_train,y_train)\n",
    "predicted_lm=lm.predict(x_test)\n",
    "print(\"Accuracy score::\",r2_score(y_test,predicted_lm))\n",
    "print(\"Training accuracy::\",lm.score(x_train,y_train))\n",
    "print(\"Test accuracy::\",lm.score(x_test,y_test))"
   ]
  },
  {
   "cell_type": "markdown",
   "metadata": {},
   "source": [
    "As 99.8 seems to be a very good score,there is no need of tuning hyper parameters."
   ]
  },
  {
   "cell_type": "markdown",
   "metadata": {},
   "source": [
    "# Saving the model"
   ]
  },
  {
   "cell_type": "code",
   "execution_count": 134,
   "metadata": {},
   "outputs": [],
   "source": [
    "import joblib"
   ]
  },
  {
   "cell_type": "code",
   "execution_count": 135,
   "metadata": {},
   "outputs": [
    {
     "data": {
      "text/plain": [
       "['AvocadoPricePredict_Linear.obj']"
      ]
     },
     "execution_count": 135,
     "metadata": {},
     "output_type": "execute_result"
    }
   ],
   "source": [
    "joblib.dump(lm,'AvocadoPricePredict_Linear.obj')"
   ]
  },
  {
   "cell_type": "markdown",
   "metadata": {},
   "source": [
    "# USING CLASSIFICATION MODEL FOR REGIONS predictions"
   ]
  },
  {
   "cell_type": "code",
   "execution_count": 136,
   "metadata": {},
   "outputs": [
    {
     "data": {
      "text/plain": [
       "(1436, 12)"
      ]
     },
     "execution_count": 136,
     "metadata": {},
     "output_type": "execute_result"
    }
   ],
   "source": [
    "clasf_x=df1.drop(['region'],axis=1)\n",
    "clasf_x.shape"
   ]
  },
  {
   "cell_type": "code",
   "execution_count": 137,
   "metadata": {},
   "outputs": [
    {
     "data": {
      "text/plain": [
       "(1436,)"
      ]
     },
     "execution_count": 137,
     "metadata": {},
     "output_type": "execute_result"
    }
   ],
   "source": [
    "clasf_y=df1['region']\n",
    "clasf_y.shape"
   ]
  },
  {
   "cell_type": "code",
   "execution_count": 138,
   "metadata": {},
   "outputs": [],
   "source": [
    "clasf_y=clasf_y.values.reshape(-1,1)"
   ]
  },
  {
   "cell_type": "code",
   "execution_count": 139,
   "metadata": {},
   "outputs": [
    {
     "data": {
      "text/plain": [
       "(1436, 1)"
      ]
     },
     "execution_count": 139,
     "metadata": {},
     "output_type": "execute_result"
    }
   ],
   "source": [
    "clasf_y.shape"
   ]
  },
  {
   "cell_type": "code",
   "execution_count": 140,
   "metadata": {},
   "outputs": [
    {
     "data": {
      "text/plain": [
       "Unnamed: 0     -0.248948\n",
       "AveragePrice   -0.184770\n",
       "Total Volume    2.704085\n",
       "4046            3.120756\n",
       "4225            2.367429\n",
       "4770            3.331191\n",
       "Small Bags      4.410267\n",
       "Large Bags      3.518056\n",
       "XLarge Bags     5.118965\n",
       "year            2.004439\n",
       "Day             0.041849\n",
       "Month           0.111898\n",
       "dtype: float64"
      ]
     },
     "execution_count": 140,
     "metadata": {},
     "output_type": "execute_result"
    }
   ],
   "source": [
    "clasf_x.skew()"
   ]
  },
  {
   "cell_type": "code",
   "execution_count": 141,
   "metadata": {},
   "outputs": [],
   "source": [
    "clasf_x=power_transform(df1,method='yeo-johnson')"
   ]
  },
  {
   "cell_type": "code",
   "execution_count": 142,
   "metadata": {},
   "outputs": [],
   "source": [
    "from sklearn.linear_model import LogisticRegression\n",
    "\n",
    "from sklearn.svm import SVC\n",
    "from sklearn.tree import DecisionTreeClassifier\n",
    "from sklearn.neighbors import KNeighborsClassifier\n",
    "from sklearn.ensemble import RandomForestClassifier\n",
    "from sklearn.metrics import accuracy_score,confusion_matrix,classification_report"
   ]
  },
  {
   "cell_type": "code",
   "execution_count": 143,
   "metadata": {},
   "outputs": [
    {
     "name": "stdout",
     "output_type": "stream",
     "text": [
      "Acuuracy of  0.9767932489451476 for Model:: LogisticRegression() found in Random state: 24\n",
      "Acuuracy of  0.9767932489451476 for Model:: SVC() found in Random state: 24\n",
      "Acuuracy of  0.9936708860759493 for Model:: DecisionTreeClassifier() found in Random state: 99\n",
      "Acuuracy of  0.9936708860759493 for Model:: KNeighborsClassifier() found in Random state: 99\n",
      "Acuuracy of  1.0 for Model:: RandomForestClassifier() found in Random state: 20\n"
     ]
    }
   ],
   "source": [
    "\n",
    "best_Randstate=0\n",
    "accuracy=0\n",
    "model=[LogisticRegression(),SVC(),DecisionTreeClassifier(),KNeighborsClassifier(),RandomForestClassifier()]\n",
    "for m in model:\n",
    "            for i in range(20,100):\n",
    "                                    clasx_train,clasx_test,clasy_train,clasy_test=train_test_split(clasf_x,clasf_y,test_size=.33,random_state=i)\n",
    "                                    m.fit(clasx_train,clasy_train)\n",
    "                                    predict_y=m.predict(clasx_test)\n",
    "                                    accu_temp=accuracy_score(clasy_test,predict_y)\n",
    "                                    if(accu_temp>accuracy):\n",
    "                                                accuracy=accu_temp\n",
    "                                                best_Randstate=i\n",
    "            print(\"Acuuracy of \",accuracy,\"for Model::\",m,\"found in Random state:\",best_Randstate)"
   ]
  },
  {
   "cell_type": "code",
   "execution_count": 144,
   "metadata": {},
   "outputs": [
    {
     "name": "stdout",
     "output_type": "stream",
     "text": [
      "cross val score of  Decision tree Model: 0.9659214092140921\n"
     ]
    }
   ],
   "source": [
    "dtc=DecisionTreeClassifier()\n",
    "\n",
    "dtc_score=cross_val_score(dtc,clasf_x,clasf_y,cv=5,scoring='accuracy')\n",
    "\n",
    "print(\"cross val score of  Decision tree Model:\",np.mean(dtc_score))\n"
   ]
  },
  {
   "cell_type": "code",
   "execution_count": 145,
   "metadata": {},
   "outputs": [
    {
     "name": "stdout",
     "output_type": "stream",
     "text": [
      "Accuracy score:: 0.989451476793249\n",
      "Training accuracy:: 1.0\n",
      "Test accuracy:: 0.989451476793249\n"
     ]
    }
   ],
   "source": [
    "dtc.fit(clasx_train,clasy_train)\n",
    "predicted_dtc=dtc.predict(clasx_test)\n",
    "print(\"Accuracy score::\",accuracy_score(clasy_test,predicted_dtc))\n",
    "print(\"Training accuracy::\",dtc.score(clasx_train,clasy_train))\n",
    "print(\"Test accuracy::\",dtc.score(clasx_test,clasy_test))\n"
   ]
  },
  {
   "cell_type": "code",
   "execution_count": 146,
   "metadata": {},
   "outputs": [
    {
     "name": "stdout",
     "output_type": "stream",
     "text": [
      "cross val score of  Logistic Regression Model: 0.9359780294231512\n"
     ]
    }
   ],
   "source": [
    "lr=LogisticRegression()\n",
    "\n",
    "lr_score=cross_val_score(lr,clasf_x,clasf_y,cv=5,scoring='accuracy')\n",
    "\n",
    "print(\"cross val score of  Logistic Regression Model:\",np.mean(lr_score))\n"
   ]
  },
  {
   "cell_type": "code",
   "execution_count": 147,
   "metadata": {},
   "outputs": [
    {
     "name": "stdout",
     "output_type": "stream",
     "text": [
      "Accuracy score:: 0.989451476793249\n",
      "Training accuracy:: 1.0\n",
      "Test accuracy:: 0.989451476793249\n"
     ]
    }
   ],
   "source": [
    "lr.fit(clasx_train,clasy_train)\n",
    "predicted_lr=lr.predict(clasx_test)\n",
    "print(\"Accuracy score::\",accuracy_score(clasy_test,predicted_dtc))\n",
    "print(\"Training accuracy::\",dtc.score(clasx_train,clasy_train))\n",
    "print(\"Test accuracy::\",dtc.score(clasx_test,clasy_test))\n"
   ]
  },
  {
   "cell_type": "markdown",
   "metadata": {},
   "source": [
    "# Hyper Parameter tuning:"
   ]
  },
  {
   "cell_type": "code",
   "execution_count": 148,
   "metadata": {},
   "outputs": [],
   "source": [
    "parameters = {'max_depth' : (3,5,7,9,10,15,20,25)\n",
    "              , 'criterion' : ('gini', 'entropy')\n",
    "              , 'max_features' : ('auto', 'sqrt', 'log2')\n",
    "              , 'min_samples_split' : (2,4,6)\n",
    "             }"
   ]
  },
  {
   "cell_type": "code",
   "execution_count": 149,
   "metadata": {},
   "outputs": [],
   "source": [
    "from sklearn.model_selection import GridSearchCV\n",
    "\n",
    "Dt_grid=GridSearchCV(DecisionTreeClassifier(),parameters,cv=10,scoring='accuracy')\n"
   ]
  },
  {
   "cell_type": "code",
   "execution_count": 150,
   "metadata": {},
   "outputs": [
    {
     "name": "stdout",
     "output_type": "stream",
     "text": [
      "Accuracy after parameter tuning:: 0.9219409282700421\n"
     ]
    }
   ],
   "source": [
    "Dt_grid.fit(clasx_train,clasy_train)\n",
    "Dt_grid.best_estimator_\n",
    "gcv_pred=Dt_grid.best_estimator_.predict(clasx_test)\n",
    "print(\"Accuracy after parameter tuning::\",accuracy_score(clasy_test,gcv_pred))"
   ]
  },
  {
   "cell_type": "markdown",
   "metadata": {},
   "source": [
    "# LOGISTIC REGRESSION: hyper parameters"
   ]
  },
  {
   "cell_type": "code",
   "execution_count": 151,
   "metadata": {},
   "outputs": [],
   "source": [
    "\n",
    "    \n",
    "    parameters={'C': [0.001, 0.01, 0.1, 1],\n",
    "            'penalty':['l2'],\n",
    "            'solver': ['lbfgs']\n",
    "    \n",
    "}"
   ]
  },
  {
   "cell_type": "code",
   "execution_count": 152,
   "metadata": {},
   "outputs": [],
   "source": [
    "log_grid=GridSearchCV(LogisticRegression(),parameters,cv=5,scoring='accuracy')"
   ]
  },
  {
   "cell_type": "code",
   "execution_count": 153,
   "metadata": {},
   "outputs": [],
   "source": [
    "log_grid.fit(clasx_train,clasy_train)\n",
    "log_pred=log_grid.best_estimator_.predict(clasx_test)"
   ]
  },
  {
   "cell_type": "code",
   "execution_count": 154,
   "metadata": {},
   "outputs": [
    {
     "name": "stdout",
     "output_type": "stream",
     "text": [
      "Accuracy after parameter tuning:: 0.9514767932489452\n"
     ]
    }
   ],
   "source": [
    "print(\"Accuracy after parameter tuning::\",accuracy_score(clasy_test,log_pred))"
   ]
  },
  {
   "cell_type": "markdown",
   "metadata": {},
   "source": [
    "# SAVING MODEL:"
   ]
  },
  {
   "cell_type": "code",
   "execution_count": 155,
   "metadata": {},
   "outputs": [
    {
     "data": {
      "text/plain": [
       "['AvocadologisticPred.obj']"
      ]
     },
     "execution_count": 155,
     "metadata": {},
     "output_type": "execute_result"
    }
   ],
   "source": [
    "import joblib\n",
    "\n",
    "joblib.dump(log_grid.best_estimator_,\"AvocadologisticPred.obj\")\n"
   ]
  },
  {
   "cell_type": "code",
   "execution_count": null,
   "metadata": {},
   "outputs": [],
   "source": []
  }
 ],
 "metadata": {
  "kernelspec": {
   "display_name": "Python 3",
   "language": "python",
   "name": "python3"
  },
  "language_info": {
   "codemirror_mode": {
    "name": "ipython",
    "version": 3
   },
   "file_extension": ".py",
   "mimetype": "text/x-python",
   "name": "python",
   "nbconvert_exporter": "python",
   "pygments_lexer": "ipython3",
   "version": "3.7.6"
  }
 },
 "nbformat": 4,
 "nbformat_minor": 4
}
